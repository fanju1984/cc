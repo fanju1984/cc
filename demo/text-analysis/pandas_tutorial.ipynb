{
 "cells": [
  {
   "cell_type": "markdown",
   "metadata": {},
   "source": [
    "* 导入Pandas和Numpy模块"
   ]
  },
  {
   "cell_type": "code",
   "execution_count": 2,
   "metadata": {},
   "outputs": [],
   "source": [
    "import pandas as pd\n",
    "import numpy as np"
   ]
  },
  {
   "cell_type": "markdown",
   "metadata": {},
   "source": [
    "* 理解Pandas的数据结构Series"
   ]
  },
  {
   "cell_type": "code",
   "execution_count": 3,
   "metadata": {
    "scrolled": true
   },
   "outputs": [
    {
     "name": "stdout",
     "output_type": "stream",
     "text": [
      "0    21\n",
      "1    21\n",
      "2    19\n",
      "3    16\n",
      "4    14\n",
      "5    13\n",
      "6    14\n",
      "7    13\n",
      "dtype: int64\n"
     ]
    }
   ],
   "source": [
    "win_col = pd.Series ([21,21,19,16,14,13,\n",
    "                      14,13])\n",
    "print (win_col)"
   ]
  },
  {
   "cell_type": "code",
   "execution_count": 4,
   "metadata": {},
   "outputs": [],
   "source": [
    "team_col = pd.Series (['Houston Rockets',\n",
    "                       'Golden State Warriors', \n",
    "                       'San Antonio Spurs',\n",
    "                       'Minnesota Timberwolves',\n",
    "                       'Denver Nuggets',\n",
    "                       'Portland Trail Blazers',\n",
    "                       'New Orleans Pelicans',\n",
    "                       'Utah Jazz'])\n",
    "loss_col = pd.Series ([4,6,8,11,12,12,13,14])"
   ]
  },
  {
   "cell_type": "code",
   "execution_count": 5,
   "metadata": {},
   "outputs": [
    {
     "name": "stdout",
     "output_type": "stream",
     "text": [
      "                     Team  Win  Loss\n",
      "0         Houston Rockets   21     4\n",
      "1   Golden State Warriors   21     6\n",
      "2       San Antonio Spurs   19     8\n",
      "3  Minnesota Timberwolves   16    11\n",
      "4          Denver Nuggets   14    12\n",
      "5  Portland Trail Blazers   13    12\n",
      "6    New Orleans Pelicans   14    13\n",
      "7               Utah Jazz   13    14\n"
     ]
    }
   ],
   "source": [
    "nba_df = pd.DataFrame ({'Team': team_col, \n",
    "                       'Win': win_col,\n",
    "                       'Loss': loss_col})\n",
    "print (nba_df)"
   ]
  },
  {
   "cell_type": "code",
   "execution_count": 13,
   "metadata": {},
   "outputs": [
    {
     "data": {
      "text/html": [
       "<div>\n",
       "<style scoped>\n",
       "    .dataframe tbody tr th:only-of-type {\n",
       "        vertical-align: middle;\n",
       "    }\n",
       "\n",
       "    .dataframe tbody tr th {\n",
       "        vertical-align: top;\n",
       "    }\n",
       "\n",
       "    .dataframe thead th {\n",
       "        text-align: right;\n",
       "    }\n",
       "</style>\n",
       "<table border=\"1\" class=\"dataframe\">\n",
       "  <thead>\n",
       "    <tr style=\"text-align: right;\">\n",
       "      <th></th>\n",
       "      <th>Team</th>\n",
       "      <th>Win</th>\n",
       "      <th>Loss</th>\n",
       "    </tr>\n",
       "  </thead>\n",
       "  <tbody>\n",
       "    <tr>\n",
       "      <th>0</th>\n",
       "      <td>Houston Rockets</td>\n",
       "      <td>20</td>\n",
       "      <td>4</td>\n",
       "    </tr>\n",
       "    <tr>\n",
       "      <th>1</th>\n",
       "      <td>Golden State Warriors</td>\n",
       "      <td>21</td>\n",
       "      <td>6</td>\n",
       "    </tr>\n",
       "    <tr>\n",
       "      <th>2</th>\n",
       "      <td>San Antonio Spurs</td>\n",
       "      <td>19</td>\n",
       "      <td>8</td>\n",
       "    </tr>\n",
       "    <tr>\n",
       "      <th>3</th>\n",
       "      <td>Minnesota Timberwolves</td>\n",
       "      <td>16</td>\n",
       "      <td>11</td>\n",
       "    </tr>\n",
       "    <tr>\n",
       "      <th>4</th>\n",
       "      <td>Denver Nuggets</td>\n",
       "      <td>14</td>\n",
       "      <td>12</td>\n",
       "    </tr>\n",
       "  </tbody>\n",
       "</table>\n",
       "</div>"
      ],
      "text/plain": [
       "                     Team  Win  Loss\n",
       "0         Houston Rockets   20     4\n",
       "1   Golden State Warriors   21     6\n",
       "2       San Antonio Spurs   19     8\n",
       "3  Minnesota Timberwolves   16    11\n",
       "4          Denver Nuggets   14    12"
      ]
     },
     "execution_count": 13,
     "metadata": {},
     "output_type": "execute_result"
    }
   ],
   "source": [
    "nba_df.head() # 前五行"
   ]
  },
  {
   "cell_type": "code",
   "execution_count": 14,
   "metadata": {},
   "outputs": [
    {
     "data": {
      "text/html": [
       "<div>\n",
       "<style scoped>\n",
       "    .dataframe tbody tr th:only-of-type {\n",
       "        vertical-align: middle;\n",
       "    }\n",
       "\n",
       "    .dataframe tbody tr th {\n",
       "        vertical-align: top;\n",
       "    }\n",
       "\n",
       "    .dataframe thead th {\n",
       "        text-align: right;\n",
       "    }\n",
       "</style>\n",
       "<table border=\"1\" class=\"dataframe\">\n",
       "  <thead>\n",
       "    <tr style=\"text-align: right;\">\n",
       "      <th></th>\n",
       "      <th>Team</th>\n",
       "      <th>Win</th>\n",
       "      <th>Loss</th>\n",
       "    </tr>\n",
       "  </thead>\n",
       "  <tbody>\n",
       "    <tr>\n",
       "      <th>3</th>\n",
       "      <td>Minnesota Timberwolves</td>\n",
       "      <td>16</td>\n",
       "      <td>11</td>\n",
       "    </tr>\n",
       "    <tr>\n",
       "      <th>4</th>\n",
       "      <td>Denver Nuggets</td>\n",
       "      <td>14</td>\n",
       "      <td>12</td>\n",
       "    </tr>\n",
       "    <tr>\n",
       "      <th>5</th>\n",
       "      <td>Portland Trail Blazers</td>\n",
       "      <td>13</td>\n",
       "      <td>12</td>\n",
       "    </tr>\n",
       "    <tr>\n",
       "      <th>6</th>\n",
       "      <td>New Orleans Pelicans</td>\n",
       "      <td>14</td>\n",
       "      <td>13</td>\n",
       "    </tr>\n",
       "    <tr>\n",
       "      <th>7</th>\n",
       "      <td>Utah Jazz</td>\n",
       "      <td>13</td>\n",
       "      <td>14</td>\n",
       "    </tr>\n",
       "  </tbody>\n",
       "</table>\n",
       "</div>"
      ],
      "text/plain": [
       "                     Team  Win  Loss\n",
       "3  Minnesota Timberwolves   16    11\n",
       "4          Denver Nuggets   14    12\n",
       "5  Portland Trail Blazers   13    12\n",
       "6    New Orleans Pelicans   14    13\n",
       "7               Utah Jazz   13    14"
      ]
     },
     "execution_count": 14,
     "metadata": {},
     "output_type": "execute_result"
    }
   ],
   "source": [
    "nba_df.tail() # 后五行"
   ]
  },
  {
   "cell_type": "code",
   "execution_count": 15,
   "metadata": {},
   "outputs": [
    {
     "name": "stdout",
     "output_type": "stream",
     "text": [
      "RangeIndex(start=0, stop=8, step=1)\n",
      "Index(['Team', 'Win', 'Loss'], dtype='object')\n",
      "Team    object\n",
      "Win      int64\n",
      "Loss     int64\n",
      "dtype: object\n",
      "[['Houston Rockets' 20 4]\n",
      " ['Golden State Warriors' 21 6]\n",
      " ['San Antonio Spurs' 19 8]\n",
      " ['Minnesota Timberwolves' 16 11]\n",
      " ['Denver Nuggets' 14 12]\n",
      " ['Portland Trail Blazers' 13 12]\n",
      " ['New Orleans Pelicans' 14 13]\n",
      " ['Utah Jazz' 13 14]]\n"
     ]
    }
   ],
   "source": [
    "nba_df.describe() # 描述信息\n",
    "print (nba_df.index) # 行标签\n",
    "print (nba_df.columns) # 列标签\n",
    "print (nba_df.dtypes) # 各列的数据类型\n",
    "print (nba_df.values) # 具体的值"
   ]
  },
  {
   "cell_type": "code",
   "execution_count": 19,
   "metadata": {},
   "outputs": [
    {
     "data": {
      "text/html": [
       "<div>\n",
       "<style scoped>\n",
       "    .dataframe tbody tr th:only-of-type {\n",
       "        vertical-align: middle;\n",
       "    }\n",
       "\n",
       "    .dataframe tbody tr th {\n",
       "        vertical-align: top;\n",
       "    }\n",
       "\n",
       "    .dataframe thead th {\n",
       "        text-align: right;\n",
       "    }\n",
       "</style>\n",
       "<table border=\"1\" class=\"dataframe\">\n",
       "  <thead>\n",
       "    <tr style=\"text-align: right;\">\n",
       "      <th></th>\n",
       "      <th>Team</th>\n",
       "      <th>Win</th>\n",
       "      <th>Loss</th>\n",
       "    </tr>\n",
       "  </thead>\n",
       "  <tbody>\n",
       "    <tr>\n",
       "      <th>7</th>\n",
       "      <td>Utah Jazz</td>\n",
       "      <td>13</td>\n",
       "      <td>14</td>\n",
       "    </tr>\n",
       "    <tr>\n",
       "      <th>6</th>\n",
       "      <td>New Orleans Pelicans</td>\n",
       "      <td>14</td>\n",
       "      <td>13</td>\n",
       "    </tr>\n",
       "    <tr>\n",
       "      <th>5</th>\n",
       "      <td>Portland Trail Blazers</td>\n",
       "      <td>13</td>\n",
       "      <td>12</td>\n",
       "    </tr>\n",
       "    <tr>\n",
       "      <th>4</th>\n",
       "      <td>Denver Nuggets</td>\n",
       "      <td>14</td>\n",
       "      <td>12</td>\n",
       "    </tr>\n",
       "    <tr>\n",
       "      <th>3</th>\n",
       "      <td>Minnesota Timberwolves</td>\n",
       "      <td>16</td>\n",
       "      <td>11</td>\n",
       "    </tr>\n",
       "  </tbody>\n",
       "</table>\n",
       "</div>"
      ],
      "text/plain": [
       "                     Team  Win  Loss\n",
       "7               Utah Jazz   13    14\n",
       "6    New Orleans Pelicans   14    13\n",
       "5  Portland Trail Blazers   13    12\n",
       "4          Denver Nuggets   14    12\n",
       "3  Minnesota Timberwolves   16    11"
      ]
     },
     "execution_count": 19,
     "metadata": {},
     "output_type": "execute_result"
    }
   ],
   "source": [
    "df1 = nba_df.sort_index (axis=0, ascending=False)\n",
    "df1.head()"
   ]
  },
  {
   "cell_type": "code",
   "execution_count": 20,
   "metadata": {},
   "outputs": [
    {
     "data": {
      "text/html": [
       "<div>\n",
       "<style scoped>\n",
       "    .dataframe tbody tr th:only-of-type {\n",
       "        vertical-align: middle;\n",
       "    }\n",
       "\n",
       "    .dataframe tbody tr th {\n",
       "        vertical-align: top;\n",
       "    }\n",
       "\n",
       "    .dataframe thead th {\n",
       "        text-align: right;\n",
       "    }\n",
       "</style>\n",
       "<table border=\"1\" class=\"dataframe\">\n",
       "  <thead>\n",
       "    <tr style=\"text-align: right;\">\n",
       "      <th></th>\n",
       "      <th>Win</th>\n",
       "      <th>Team</th>\n",
       "      <th>Loss</th>\n",
       "    </tr>\n",
       "  </thead>\n",
       "  <tbody>\n",
       "    <tr>\n",
       "      <th>0</th>\n",
       "      <td>20</td>\n",
       "      <td>Houston Rockets</td>\n",
       "      <td>4</td>\n",
       "    </tr>\n",
       "    <tr>\n",
       "      <th>1</th>\n",
       "      <td>21</td>\n",
       "      <td>Golden State Warriors</td>\n",
       "      <td>6</td>\n",
       "    </tr>\n",
       "    <tr>\n",
       "      <th>2</th>\n",
       "      <td>19</td>\n",
       "      <td>San Antonio Spurs</td>\n",
       "      <td>8</td>\n",
       "    </tr>\n",
       "    <tr>\n",
       "      <th>3</th>\n",
       "      <td>16</td>\n",
       "      <td>Minnesota Timberwolves</td>\n",
       "      <td>11</td>\n",
       "    </tr>\n",
       "    <tr>\n",
       "      <th>4</th>\n",
       "      <td>14</td>\n",
       "      <td>Denver Nuggets</td>\n",
       "      <td>12</td>\n",
       "    </tr>\n",
       "  </tbody>\n",
       "</table>\n",
       "</div>"
      ],
      "text/plain": [
       "   Win                    Team  Loss\n",
       "0   20         Houston Rockets     4\n",
       "1   21   Golden State Warriors     6\n",
       "2   19       San Antonio Spurs     8\n",
       "3   16  Minnesota Timberwolves    11\n",
       "4   14          Denver Nuggets    12"
      ]
     },
     "execution_count": 20,
     "metadata": {},
     "output_type": "execute_result"
    }
   ],
   "source": [
    "df2 = nba_df.sort_index (axis=1, ascending=False)\n",
    "df2.head()"
   ]
  },
  {
   "cell_type": "code",
   "execution_count": 6,
   "metadata": {},
   "outputs": [
    {
     "data": {
      "text/html": [
       "<div>\n",
       "<style scoped>\n",
       "    .dataframe tbody tr th:only-of-type {\n",
       "        vertical-align: middle;\n",
       "    }\n",
       "\n",
       "    .dataframe tbody tr th {\n",
       "        vertical-align: top;\n",
       "    }\n",
       "\n",
       "    .dataframe thead th {\n",
       "        text-align: right;\n",
       "    }\n",
       "</style>\n",
       "<table border=\"1\" class=\"dataframe\">\n",
       "  <thead>\n",
       "    <tr style=\"text-align: right;\">\n",
       "      <th></th>\n",
       "      <th>Team</th>\n",
       "      <th>Win</th>\n",
       "      <th>Loss</th>\n",
       "    </tr>\n",
       "  </thead>\n",
       "  <tbody>\n",
       "    <tr>\n",
       "      <th>0</th>\n",
       "      <td>Houston Rockets</td>\n",
       "      <td>21</td>\n",
       "      <td>4</td>\n",
       "    </tr>\n",
       "    <tr>\n",
       "      <th>1</th>\n",
       "      <td>Golden State Warriors</td>\n",
       "      <td>21</td>\n",
       "      <td>6</td>\n",
       "    </tr>\n",
       "    <tr>\n",
       "      <th>2</th>\n",
       "      <td>San Antonio Spurs</td>\n",
       "      <td>19</td>\n",
       "      <td>8</td>\n",
       "    </tr>\n",
       "    <tr>\n",
       "      <th>3</th>\n",
       "      <td>Minnesota Timberwolves</td>\n",
       "      <td>16</td>\n",
       "      <td>11</td>\n",
       "    </tr>\n",
       "    <tr>\n",
       "      <th>4</th>\n",
       "      <td>Denver Nuggets</td>\n",
       "      <td>14</td>\n",
       "      <td>12</td>\n",
       "    </tr>\n",
       "  </tbody>\n",
       "</table>\n",
       "</div>"
      ],
      "text/plain": [
       "                     Team  Win  Loss\n",
       "0         Houston Rockets   21     4\n",
       "1   Golden State Warriors   21     6\n",
       "2       San Antonio Spurs   19     8\n",
       "3  Minnesota Timberwolves   16    11\n",
       "4          Denver Nuggets   14    12"
      ]
     },
     "execution_count": 6,
     "metadata": {},
     "output_type": "execute_result"
    }
   ],
   "source": [
    "nba_df = nba_df.sort_values(by='Win', ascending=False)\n",
    "nba_df.head()"
   ]
  },
  {
   "cell_type": "code",
   "execution_count": 7,
   "metadata": {},
   "outputs": [
    {
     "name": "stdout",
     "output_type": "stream",
     "text": [
      "0           Houston Rockets\n",
      "1     Golden State Warriors\n",
      "2         San Antonio Spurs\n",
      "3    Minnesota Timberwolves\n",
      "4            Denver Nuggets\n",
      "6      New Orleans Pelicans\n",
      "5    Portland Trail Blazers\n",
      "7                 Utah Jazz\n",
      "Name: Team, dtype: object\n"
     ]
    }
   ],
   "source": [
    "print (nba_df.Team)"
   ]
  },
  {
   "cell_type": "code",
   "execution_count": 10,
   "metadata": {},
   "outputs": [
    {
     "name": "stdout",
     "output_type": "stream",
     "text": [
      "                     Team  Win  Loss\n",
      "1   Golden State Warriors   21     6\n",
      "2       San Antonio Spurs   19     8\n",
      "3  Minnesota Timberwolves   16    11\n",
      "4          Denver Nuggets   14    12\n"
     ]
    }
   ],
   "source": [
    "print (nba_df[1:5])"
   ]
  },
  {
   "cell_type": "code",
   "execution_count": 29,
   "metadata": {},
   "outputs": [
    {
     "name": "stdout",
     "output_type": "stream",
     "text": [
      "                     Team  Win\n",
      "7               Utah Jazz   13\n",
      "4          Denver Nuggets   14\n",
      "6    New Orleans Pelicans   14\n",
      "3  Minnesota Timberwolves   16\n",
      "13\n"
     ]
    }
   ],
   "source": [
    "print (nba_df.iloc[1:5,0:2])\n",
    "print (nba_df.iloc[1,1])"
   ]
  },
  {
   "cell_type": "code",
   "execution_count": 11,
   "metadata": {},
   "outputs": [
    {
     "name": "stdout",
     "output_type": "stream",
     "text": [
      "提取Win大于16的数据\n",
      "                    Team  Win  Loss\n",
      "0        Houston Rockets   21     4\n",
      "1  Golden State Warriors   21     6\n",
      "2      San Antonio Spurs   19     8\n",
      "提取某些球队的数据\n",
      "             Team  Win  Loss\n",
      "4  Denver Nuggets   14    12\n",
      "7       Utah Jazz   13    14\n"
     ]
    }
   ],
   "source": [
    "print (\"提取Win大于16的数据\")\n",
    "print (nba_df[nba_df.Win>18])\n",
    "print (\"提取某些球队的数据\")\n",
    "print (nba_df[nba_df.Team.isin(['Utah Jazz','Denver Nuggets'])])"
   ]
  },
  {
   "cell_type": "code",
   "execution_count": 33,
   "metadata": {},
   "outputs": [
    {
     "name": "stdout",
     "output_type": "stream",
     "text": [
      "Win     16.25\n",
      "Loss    10.00\n",
      "dtype: float64\n"
     ]
    }
   ],
   "source": [
    "print (nba_df.mean())"
   ]
  },
  {
   "cell_type": "code",
   "execution_count": 12,
   "metadata": {},
   "outputs": [
    {
     "data": {
      "text/html": [
       "<div>\n",
       "<style scoped>\n",
       "    .dataframe tbody tr th:only-of-type {\n",
       "        vertical-align: middle;\n",
       "    }\n",
       "\n",
       "    .dataframe tbody tr th {\n",
       "        vertical-align: top;\n",
       "    }\n",
       "\n",
       "    .dataframe thead th {\n",
       "        text-align: right;\n",
       "    }\n",
       "</style>\n",
       "<table border=\"1\" class=\"dataframe\">\n",
       "  <thead>\n",
       "    <tr style=\"text-align: right;\">\n",
       "      <th></th>\n",
       "      <th>Team</th>\n",
       "      <th>Win</th>\n",
       "      <th>Loss</th>\n",
       "      <th>Win%</th>\n",
       "    </tr>\n",
       "  </thead>\n",
       "  <tbody>\n",
       "    <tr>\n",
       "      <th>0</th>\n",
       "      <td>Houston Rockets</td>\n",
       "      <td>21</td>\n",
       "      <td>4</td>\n",
       "      <td>0.840000</td>\n",
       "    </tr>\n",
       "    <tr>\n",
       "      <th>1</th>\n",
       "      <td>Golden State Warriors</td>\n",
       "      <td>21</td>\n",
       "      <td>6</td>\n",
       "      <td>0.777778</td>\n",
       "    </tr>\n",
       "    <tr>\n",
       "      <th>2</th>\n",
       "      <td>San Antonio Spurs</td>\n",
       "      <td>19</td>\n",
       "      <td>8</td>\n",
       "      <td>0.703704</td>\n",
       "    </tr>\n",
       "    <tr>\n",
       "      <th>3</th>\n",
       "      <td>Minnesota Timberwolves</td>\n",
       "      <td>16</td>\n",
       "      <td>11</td>\n",
       "      <td>0.592593</td>\n",
       "    </tr>\n",
       "    <tr>\n",
       "      <th>4</th>\n",
       "      <td>Denver Nuggets</td>\n",
       "      <td>14</td>\n",
       "      <td>12</td>\n",
       "      <td>0.538462</td>\n",
       "    </tr>\n",
       "    <tr>\n",
       "      <th>5</th>\n",
       "      <td>Portland Trail Blazers</td>\n",
       "      <td>13</td>\n",
       "      <td>12</td>\n",
       "      <td>0.520000</td>\n",
       "    </tr>\n",
       "    <tr>\n",
       "      <th>6</th>\n",
       "      <td>New Orleans Pelicans</td>\n",
       "      <td>14</td>\n",
       "      <td>13</td>\n",
       "      <td>0.518519</td>\n",
       "    </tr>\n",
       "    <tr>\n",
       "      <th>7</th>\n",
       "      <td>Utah Jazz</td>\n",
       "      <td>13</td>\n",
       "      <td>14</td>\n",
       "      <td>0.481481</td>\n",
       "    </tr>\n",
       "  </tbody>\n",
       "</table>\n",
       "</div>"
      ],
      "text/plain": [
       "                     Team  Win  Loss      Win%\n",
       "0         Houston Rockets   21     4  0.840000\n",
       "1   Golden State Warriors   21     6  0.777778\n",
       "2       San Antonio Spurs   19     8  0.703704\n",
       "3  Minnesota Timberwolves   16    11  0.592593\n",
       "4          Denver Nuggets   14    12  0.538462\n",
       "5  Portland Trail Blazers   13    12  0.520000\n",
       "6    New Orleans Pelicans   14    13  0.518519\n",
       "7               Utah Jazz   13    14  0.481481"
      ]
     },
     "execution_count": 12,
     "metadata": {},
     "output_type": "execute_result"
    }
   ],
   "source": [
    "nba_df[\"Win%\"]=nba_df['Win']/(nba_df['Win']+nba_df['Loss'])\n",
    "nba_df.sort_values(by='Win%', ascending=False)\n",
    "nba_df.head()"
   ]
  },
  {
   "cell_type": "code",
   "execution_count": 18,
   "metadata": {},
   "outputs": [
    {
     "name": "stdout",
     "output_type": "stream",
     "text": [
      "13    2\n",
      "14    2\n",
      "21    2\n",
      "19    1\n",
      "16    1\n",
      "Name: Win, dtype: int64\n"
     ]
    },
    {
     "data": {
      "image/png": "[encoded data removed]",
      "text/plain": [
       "<Figure size 432x288 with 1 Axes>"
      ]
     },
     "metadata": {
      "needs_background": "light"
     },
     "output_type": "display_data"
    }
   ],
   "source": [
    "print (nba_df['Win'].value_counts())\n",
    "import matplotlib.pyplot as plt\n",
    "nba_df['Win'].plot.hist(grid=True, bins=5, color='#607c8e')\n",
    "plt.title('histogram of Column Win')\n",
    "plt.xlabel('counts')\n",
    "plt.ylabel('value')\n",
    "plt.show()"
   ]
  },
  {
   "cell_type": "code",
   "execution_count": 48,
   "metadata": {},
   "outputs": [
    {
     "data": {
      "text/html": [
       "<div>\n",
       "<style scoped>\n",
       "    .dataframe tbody tr th:only-of-type {\n",
       "        vertical-align: middle;\n",
       "    }\n",
       "\n",
       "    .dataframe tbody tr th {\n",
       "        vertical-align: top;\n",
       "    }\n",
       "\n",
       "    .dataframe thead th {\n",
       "        text-align: right;\n",
       "    }\n",
       "</style>\n",
       "<table border=\"1\" class=\"dataframe\">\n",
       "  <thead>\n",
       "    <tr style=\"text-align: right;\">\n",
       "      <th></th>\n",
       "      <th>Team</th>\n",
       "      <th>Win</th>\n",
       "      <th>Loss</th>\n",
       "      <th>Win%</th>\n",
       "    </tr>\n",
       "  </thead>\n",
       "  <tbody>\n",
       "    <tr>\n",
       "      <th>5</th>\n",
       "      <td>portland trail blazers</td>\n",
       "      <td>13</td>\n",
       "      <td>12</td>\n",
       "      <td>0.520000</td>\n",
       "    </tr>\n",
       "    <tr>\n",
       "      <th>7</th>\n",
       "      <td>utah jazz</td>\n",
       "      <td>13</td>\n",
       "      <td>14</td>\n",
       "      <td>0.481481</td>\n",
       "    </tr>\n",
       "    <tr>\n",
       "      <th>4</th>\n",
       "      <td>denver nuggets</td>\n",
       "      <td>14</td>\n",
       "      <td>12</td>\n",
       "      <td>0.538462</td>\n",
       "    </tr>\n",
       "    <tr>\n",
       "      <th>6</th>\n",
       "      <td>new orleans pelicans</td>\n",
       "      <td>14</td>\n",
       "      <td>13</td>\n",
       "      <td>0.518519</td>\n",
       "    </tr>\n",
       "    <tr>\n",
       "      <th>3</th>\n",
       "      <td>minnesota timberwolves</td>\n",
       "      <td>16</td>\n",
       "      <td>11</td>\n",
       "      <td>0.592593</td>\n",
       "    </tr>\n",
       "  </tbody>\n",
       "</table>\n",
       "</div>"
      ],
      "text/plain": [
       "                     Team  Win  Loss      Win%\n",
       "5  portland trail blazers   13    12  0.520000\n",
       "7               utah jazz   13    14  0.481481\n",
       "4          denver nuggets   14    12  0.538462\n",
       "6    new orleans pelicans   14    13  0.518519\n",
       "3  minnesota timberwolves   16    11  0.592593"
      ]
     },
     "execution_count": 48,
     "metadata": {},
     "output_type": "execute_result"
    }
   ],
   "source": [
    "nba_df['Team'] = nba_df['Team'].str.lower()\n",
    "nba_df.head()"
   ]
  },
  {
   "cell_type": "code",
   "execution_count": 19,
   "metadata": {},
   "outputs": [
    {
     "data": {
      "text/plain": [
       "0    1\n",
       "1    1\n",
       "2    1\n",
       "3    1\n",
       "4    0\n",
       "6    0\n",
       "5    0\n",
       "7    0\n",
       "Name: Win, dtype: int64"
      ]
     },
     "execution_count": 19,
     "metadata": {},
     "output_type": "execute_result"
    }
   ],
   "source": [
    "nba_df['Win'].apply(lambda x: 1 if x>15 else 0)"
   ]
  },
  {
   "cell_type": "code",
   "execution_count": 21,
   "metadata": {},
   "outputs": [
    {
     "data": {
      "text/html": [
       "<div>\n",
       "<style scoped>\n",
       "    .dataframe tbody tr th:only-of-type {\n",
       "        vertical-align: middle;\n",
       "    }\n",
       "\n",
       "    .dataframe tbody tr th {\n",
       "        vertical-align: top;\n",
       "    }\n",
       "\n",
       "    .dataframe thead th {\n",
       "        text-align: right;\n",
       "    }\n",
       "</style>\n",
       "<table border=\"1\" class=\"dataframe\">\n",
       "  <thead>\n",
       "    <tr style=\"text-align: right;\">\n",
       "      <th></th>\n",
       "      <th>Team</th>\n",
       "      <th>Win</th>\n",
       "      <th>Loss</th>\n",
       "      <th>Win%</th>\n",
       "      <th>label</th>\n",
       "    </tr>\n",
       "  </thead>\n",
       "  <tbody>\n",
       "    <tr>\n",
       "      <th>0</th>\n",
       "      <td>Houston Rockets</td>\n",
       "      <td>21</td>\n",
       "      <td>4</td>\n",
       "      <td>0.840000</td>\n",
       "      <td>good</td>\n",
       "    </tr>\n",
       "    <tr>\n",
       "      <th>1</th>\n",
       "      <td>Golden State Warriors</td>\n",
       "      <td>21</td>\n",
       "      <td>6</td>\n",
       "      <td>0.777778</td>\n",
       "      <td>good</td>\n",
       "    </tr>\n",
       "    <tr>\n",
       "      <th>2</th>\n",
       "      <td>San Antonio Spurs</td>\n",
       "      <td>19</td>\n",
       "      <td>8</td>\n",
       "      <td>0.703704</td>\n",
       "      <td>good</td>\n",
       "    </tr>\n",
       "    <tr>\n",
       "      <th>3</th>\n",
       "      <td>Minnesota Timberwolves</td>\n",
       "      <td>16</td>\n",
       "      <td>11</td>\n",
       "      <td>0.592593</td>\n",
       "      <td>good</td>\n",
       "    </tr>\n",
       "    <tr>\n",
       "      <th>4</th>\n",
       "      <td>Denver Nuggets</td>\n",
       "      <td>14</td>\n",
       "      <td>12</td>\n",
       "      <td>0.538462</td>\n",
       "      <td>good</td>\n",
       "    </tr>\n",
       "    <tr>\n",
       "      <th>6</th>\n",
       "      <td>New Orleans Pelicans</td>\n",
       "      <td>14</td>\n",
       "      <td>13</td>\n",
       "      <td>0.518519</td>\n",
       "      <td>good</td>\n",
       "    </tr>\n",
       "    <tr>\n",
       "      <th>5</th>\n",
       "      <td>Portland Trail Blazers</td>\n",
       "      <td>13</td>\n",
       "      <td>12</td>\n",
       "      <td>0.520000</td>\n",
       "      <td>good</td>\n",
       "    </tr>\n",
       "    <tr>\n",
       "      <th>7</th>\n",
       "      <td>Utah Jazz</td>\n",
       "      <td>13</td>\n",
       "      <td>14</td>\n",
       "      <td>0.481481</td>\n",
       "      <td>bad</td>\n",
       "    </tr>\n",
       "  </tbody>\n",
       "</table>\n",
       "</div>"
      ],
      "text/plain": [
       "                     Team  Win  Loss      Win% label\n",
       "0         Houston Rockets   21     4  0.840000  good\n",
       "1   Golden State Warriors   21     6  0.777778  good\n",
       "2       San Antonio Spurs   19     8  0.703704  good\n",
       "3  Minnesota Timberwolves   16    11  0.592593  good\n",
       "4          Denver Nuggets   14    12  0.538462  good\n",
       "6    New Orleans Pelicans   14    13  0.518519  good\n",
       "5  Portland Trail Blazers   13    12  0.520000  good\n",
       "7               Utah Jazz   13    14  0.481481   bad"
      ]
     },
     "execution_count": 21,
     "metadata": {},
     "output_type": "execute_result"
    }
   ],
   "source": [
    "def make_label (win_p):\n",
    "    if win_p > 0.5:\n",
    "        return 'good'\n",
    "    else:\n",
    "        return 'bad'\n",
    "nba_df['label'] = nba_df['Win%'].apply(make_label)\n",
    "nba_df.head(10)"
   ]
  },
  {
   "cell_type": "code",
   "execution_count": 22,
   "metadata": {},
   "outputs": [
    {
     "data": {
      "text/html": [
       "<div>\n",
       "<style scoped>\n",
       "    .dataframe tbody tr th:only-of-type {\n",
       "        vertical-align: middle;\n",
       "    }\n",
       "\n",
       "    .dataframe tbody tr th {\n",
       "        vertical-align: top;\n",
       "    }\n",
       "\n",
       "    .dataframe thead th {\n",
       "        text-align: right;\n",
       "    }\n",
       "</style>\n",
       "<table border=\"1\" class=\"dataframe\">\n",
       "  <thead>\n",
       "    <tr style=\"text-align: right;\">\n",
       "      <th></th>\n",
       "      <th>Team</th>\n",
       "      <th>Win</th>\n",
       "      <th>Loss</th>\n",
       "      <th>Win%</th>\n",
       "    </tr>\n",
       "  </thead>\n",
       "  <tbody>\n",
       "    <tr>\n",
       "      <th>0</th>\n",
       "      <td>Houston Rockets</td>\n",
       "      <td>20</td>\n",
       "      <td>4</td>\n",
       "      <td>0.83</td>\n",
       "    </tr>\n",
       "    <tr>\n",
       "      <th>1</th>\n",
       "      <td>Golden State Warriors</td>\n",
       "      <td>21</td>\n",
       "      <td>6</td>\n",
       "      <td>0.78</td>\n",
       "    </tr>\n",
       "    <tr>\n",
       "      <th>2</th>\n",
       "      <td>San Antonio Spurs</td>\n",
       "      <td>19</td>\n",
       "      <td>8</td>\n",
       "      <td>0.70</td>\n",
       "    </tr>\n",
       "    <tr>\n",
       "      <th>3</th>\n",
       "      <td>Minnesota Timberwolves</td>\n",
       "      <td>16</td>\n",
       "      <td>11</td>\n",
       "      <td>0.59</td>\n",
       "    </tr>\n",
       "    <tr>\n",
       "      <th>4</th>\n",
       "      <td>Denver Nuggets</td>\n",
       "      <td>14</td>\n",
       "      <td>12</td>\n",
       "      <td>0.54</td>\n",
       "    </tr>\n",
       "  </tbody>\n",
       "</table>\n",
       "</div>"
      ],
      "text/plain": [
       "                     Team  Win  Loss  Win%\n",
       "0         Houston Rockets   20     4  0.83\n",
       "1   Golden State Warriors   21     6  0.78\n",
       "2       San Antonio Spurs   19     8  0.70\n",
       "3  Minnesota Timberwolves   16    11  0.59\n",
       "4          Denver Nuggets   14    12  0.54"
      ]
     },
     "execution_count": 22,
     "metadata": {},
     "output_type": "execute_result"
    }
   ],
   "source": [
    "nba_df.to_csv('datasets/nba_out.csv')\n",
    "nba_df2 = pd.read_csv('datasets/nba.csv')\n",
    "nba_df2.head()"
   ]
  },
  {
   "cell_type": "code",
   "execution_count": null,
   "metadata": {},
   "outputs": [],
   "source": []
  }
 ],
 "metadata": {
  "kernelspec": {
   "display_name": "Python 3",
   "language": "python",
   "name": "python3"
  },
  "language_info": {
   "codemirror_mode": {
    "name": "ipython",
    "version": 3
   },
   "file_extension": ".py",
   "mimetype": "text/x-python",
   "name": "python",
   "nbconvert_exporter": "python",
   "pygments_lexer": "ipython3",
   "version": "3.6.3"
  }
 },
 "nbformat": 4,
 "nbformat_minor": 2
}
