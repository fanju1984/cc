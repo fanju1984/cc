{
 "cells": [
  {
   "cell_type": "markdown",
   "metadata": {},
   "source": [
    "# Lab03 - Graph"
   ]
  },
  {
   "cell_type": "markdown",
   "metadata": {},
   "source": [
    "## 0. 数据集说明"
   ]
  },
  {
   "cell_type": "markdown",
   "metadata": {},
   "source": [
    "1. 从weibo_dataset.csv中读入相关数据\n",
    "2. weibo_dataset.csv收集了一段时间内转发微博的真实数据，具体各列属性意涵如下：\n",
    "\n",
    "| origin_user_id | origin_user_name | retweet_user_id | retweet_user_name | origin_content | retweet_content | origin_user_followers_num |\n",
    "| -------------- | ---------------- | --------------- | ----------------- | -------------- | --------------- | ------------------------- |\n",
    "| 原微博用户ID   | 原微博用户名     | 转发用户ID      | 转发用户名        | 原微博内容     | 转发微博内容    | 原微博用户粉丝数          |\n",
    "\n",
    "\n"
   ]
  },
  {
   "cell_type": "code",
   "execution_count": 2,
   "metadata": {},
   "outputs": [],
   "source": [
    "import networkx as nx\n",
    "import matplotlib.pyplot as plt\n",
    "import pandas as pd\n",
    "import networkx as nx\n",
    "\n",
    "\n",
    "\n",
    "# Data in\n",
    "data = pd.read_csv(\"dataset_v2.csv\")\n",
    "\n"
   ]
  },
  {
   "cell_type": "markdown",
   "metadata": {},
   "source": [
    "## 1.无向图的分析处理"
   ]
  },
  {
   "cell_type": "markdown",
   "metadata": {},
   "source": [
    "\n",
    "### 1.1 建图\n",
    "\n",
    "- 以用户为节点，用户ID为节点编号，边为转发关系，需要包含\"转发微博内容\"和\"原微博内容\"两个属性。(可以根据自己考量优化图的各种属性的结构设计)"
   ]
  },
  {
   "cell_type": "code",
   "execution_count": 3,
   "metadata": {},
   "outputs": [],
   "source": [
    "#Coding Here"
   ]
  },
  {
   "cell_type": "markdown",
   "metadata": {},
   "source": [
    "### 1.2 度\n",
    "\n",
    "- 计算所有的节点的度并排序，输出排名前20的节点（id，昵称，度数值）"
   ]
  },
  {
   "cell_type": "code",
   "execution_count": 1,
   "metadata": {},
   "outputs": [],
   "source": [
    "#Coding Here"
   ]
  },
  {
   "cell_type": "markdown",
   "metadata": {},
   "source": [
    "\n",
    "### 1.3 中心性\n",
    "\n",
    "- 计算图中各个节点的度中心性（**degree centrality**），并返回排名前十的结果（id，昵称，中心性数值）。\n"
   ]
  },
  {
   "cell_type": "code",
   "execution_count": 2,
   "metadata": {},
   "outputs": [],
   "source": [
    "#Coding Here"
   ]
  },
  {
   "cell_type": "markdown",
   "metadata": {},
   "source": [
    "- 计算图中各个节点的接近中心性（**closeness centrality**），并返回排名前十的结果（id，昵称，中心性数值）。"
   ]
  },
  {
   "cell_type": "code",
   "execution_count": 3,
   "metadata": {},
   "outputs": [],
   "source": [
    "#Coding Here"
   ]
  },
  {
   "cell_type": "markdown",
   "metadata": {},
   "source": [
    "- 计算图中各个节点的中介中心性（**betweenness centrality**），并返回排名前十的结果（id，昵称，中心性数值）。"
   ]
  },
  {
   "cell_type": "code",
   "execution_count": 5,
   "metadata": {},
   "outputs": [],
   "source": [
    "#Coding Here"
   ]
  },
  {
   "cell_type": "markdown",
   "metadata": {},
   "source": [
    "## 2.有向图的分析与处理\n"
   ]
  },
  {
   "cell_type": "markdown",
   "metadata": {},
   "source": [
    "### 2.1 计算PageRank\n",
    "\n",
    "- 用PageRank算法计算图中影响力最大的前十个节点。返回每个节点的id，昵称，PageRank分值。\n",
    "\n",
    "> PageRank以\"链接”来投票。对于一个有向关系图，视作一条有向关系的**源为标的投票**。而在我们的微博转发关系图中，相当于转发用户的微博首页中会出现原微博用户的微博地址，这可以视作转发用户的节点为原微博用户的节点投票，从而符合PageRank的模型。\n",
    "\n",
    "- (注意)由于和直观想法不同，特别强调，此处的有向图的建立过程中，一条代表转发关系的边，需要**以转发微博用户为始，原微博用户为终**。\n",
    "    例如 B转发A的微博，则应该建立B->A的一条边。"
   ]
  },
  {
   "cell_type": "code",
   "execution_count": 4,
   "metadata": {},
   "outputs": [],
   "source": [
    "#Coding Here"
   ]
  },
  {
   "cell_type": "markdown",
   "metadata": {},
   "source": [
    "## 3.微博内容分析"
   ]
  },
  {
   "cell_type": "markdown",
   "metadata": {},
   "source": [
    "\n",
    "### 3.1 话题分析\n",
    "\n",
    "> 关键意见领袖（Key Opinion Leader,简称KOL）是营销学上的概念，通常被定义为：拥有更多、更准确的产品信息，且为相关群体所接受或信任，并对该群体的购买行为有较大影响力的人。\n",
    ">\n",
    "> KOL是目前最新的一种针对新媒体营销手段，其发挥了新媒体在覆盖面积和影响力方面的各种优势，KOL的粉丝黏性很强，尤其是在价值观方面体现更强烈，所以KOL的推荐粉丝都会仔细阅读点赞。\n",
    "\n",
    "> 在更泛化广义的讨论中，这样的关键意见领袖被我们称为大V\n",
    "\n",
    "\n",
    "\n",
    "- 在先前阶段的讨论中，我们通过各种方法找到了网络图中影响力比较大的各个节点，这些节点用户可以被视作我们这个较小规模数据集中的大V。\n",
    "- 选取一些大V，对转发他们微博的用户所转发的文本内容画出词云。选取你认为影响里最大的5个大V，画出他们的“转发词云”，分析得出你认为有用的结论。\n"
   ]
  },
  {
   "cell_type": "code",
   "execution_count": 5,
   "metadata": {},
   "outputs": [],
   "source": [
    "#Coding Here"
   ]
  },
  {
   "cell_type": "markdown",
   "metadata": {},
   "source": [
    "#### 结论:\n",
    "\n",
    "1. [add text here]\n",
    "\n",
    "2. [add text here]"
   ]
  },
  {
   "cell_type": "markdown",
   "metadata": {},
   "source": [
    "\n",
    "### 3.2 同类KOL差异分析（附加选做题）\n",
    "\n",
    "- 有一些大V在分类领域上是相似的，我们可以通过比较他们的词云来分析出同领域下不同风格的大V的粉丝回应也有所不同。尝试分析并给出有意义的结论。\n",
    "- 你需要指明你选取的几个大V是同类同领域的原因。\n"
   ]
  },
  {
   "cell_type": "code",
   "execution_count": 6,
   "metadata": {},
   "outputs": [],
   "source": [
    "# Coding Here"
   ]
  },
  {
   "cell_type": "markdown",
   "metadata": {},
   "source": [
    "#### 结论:\n",
    "\n",
    "1. [add text here]\n",
    "\n",
    "2. [add text here]"
   ]
  }
 ],
 "metadata": {
  "kernelspec": {
   "display_name": "Python 3",
   "language": "python",
   "name": "python3"
  },
  "language_info": {
   "codemirror_mode": {
    "name": "ipython",
    "version": 3
   },
   "file_extension": ".py",
   "mimetype": "text/x-python",
   "name": "python",
   "nbconvert_exporter": "python",
   "pygments_lexer": "ipython3",
   "version": "3.7.1"
  }
 },
 "nbformat": 4,
 "nbformat_minor": 2
}
