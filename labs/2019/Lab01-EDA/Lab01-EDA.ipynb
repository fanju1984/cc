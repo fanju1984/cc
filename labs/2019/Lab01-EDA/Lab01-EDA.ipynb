{
 "cells": [
  {
   "cell_type": "markdown",
   "metadata": {},
   "source": [
    "# 实验一 EDA"
   ]
  },
  {
   "cell_type": "markdown",
   "metadata": {},
   "source": [
    "## 实验目标"
   ]
  },
  {
   "cell_type": "markdown",
   "metadata": {},
   "source": [
    "统计分析之所以在数据科学研究中占有绝对重要的地位主要有两个原因。第一，它有助于更深层次理解数据，而这个过程就是所谓的**EDA(探索式数据分析)** 。第二，它有助于我们推断样本与整体的关系，这个过程称为**推断** 。本次实验我们将会通过分析一个非常有趣的实验集 - [Mobile Strategy Games](https://www.kaggle.com/tristan581/17k-apple-app-store-strategy-games) 来学习EDA和统计推断。\n",
    "\n",
    "具体来说，你将会学习以下几点：\n",
    "\n",
    "1. 能够对单列信息进行EDA分析\n",
    "2. 能够从多列信息综合进行EDA分析\n",
    "3. 能够从可视化图标中捕获信息\n",
    "4. 能够对数据提出有建设性的问题并进行研究\n",
    "5. 能够从样本估计整体情况\n",
    "\n",
    "在本次实验中，你可以使用[pandas](https://pandas.pydata.org/) 或者PySpark来计算数据，并且使用 [matplotlib](https://matplotlib.org/) 或者 [seaborn](https://seaborn.pydata.org) 来做图。 \n"
   ]
  },
  {
   "cell_type": "markdown",
   "metadata": {},
   "source": [
    "## Part 1. EDA"
   ]
  },
  {
   "cell_type": "markdown",
   "metadata": {},
   "source": [
    "**嘿！你好**\n",
    "\n",
    "在日常生活中，我们经常性地会直接或间接接触到游戏相关的内容。游戏发展至今，已经有了纷繁复杂的游戏玩法和游戏内容。就算你可能不是一位游戏发烧友，你也一定在手机之类的平台上玩过像数独(Soduku)这样的**决策类游戏**。今天，我们就以iOS平台下策略游戏为对象进行研究，带领大家对数据科学有一个更直观的概念。\n",
    "\n",
    "哦，我们还没有说我们要干什么呢。本次我们当然不是要求大家开发游戏，而是更像作为一个数据分析师，来帮助一个刚刚成立的游戏工作室(或者个人)来决定应该开发什么样的游戏才能获得更好的收益。你需要考虑的是什么样的游戏比较受欢迎，怎么让游戏传播地更加迅速、反响更加热烈。\n",
    "\n",
    "我们已经上传了数据集，当然你也可以从[原处](https://www.kaggle.com/tristan581/17k-apple-app-store-strategy-games)自行下载数据集，并和本文档放在同一目录之下。\n",
    "\n",
    "这次的数据集总共包含16847个条目，每个条目含有URL和ID两个元属性以及其他16个属性变量，他们分别是：\n",
    "1. URL -详情链接\n",
    "2. ID -应用分配的ID\n",
    "3. Name -游戏的名字\n",
    "4. Subtitle -游戏的副标题\n",
    "5. Icon URL -游戏封面图片链接\n",
    "6. Average User Rating -平均用户评分（对齐到0.5）\n",
    "7. User Rating Count -全球评分数量（NULL值代表低于5个）\n",
    "8. Price -售价（单位美元）\n",
    "9. In-app Purchases -各类内购信息\n",
    "10. Description -应用描述\n",
    "11. Developer -开发者\n",
    "12. Age Rating -年龄分级情况（4+，9+，12+或17+）\n",
    "13. Languages -ISO2A标准 语言种类识别码\n",
    "14. Size -软件大小（单位Bytes）\n",
    "15. Primary Genre -主分类\n",
    "16. Genres -应用分类\n",
    "17. Original Release Date -应用发布时间\n",
    "18. Current Version Release Date -当前版本发布时间\n",
    "\n",
    "请尽可能地使用这些数据，获得想要的分析结果！"
   ]
  },
  {
   "cell_type": "markdown",
   "metadata": {},
   "source": [
    "我们先把数据集按照DataFrame的形式读入"
   ]
  },
  {
   "cell_type": "code",
   "execution_count": 1,
   "metadata": {},
   "outputs": [],
   "source": [
    "import pandas as pd\n",
    "\n",
    "import numpy as np\n",
    "\n",
    "game_data = pd.read_csv(\"appstore_games.csv\")\n"
   ]
  },
  {
   "cell_type": "markdown",
   "metadata": {},
   "source": [
    "现在，我们开始EDA分析。"
   ]
  },
  {
   "cell_type": "markdown",
   "metadata": {},
   "source": [
    "### Question 1. 显示数据 \n",
    "显示前10条数据"
   ]
  },
  {
   "cell_type": "code",
   "execution_count": 15,
   "metadata": {
    "scrolled": true
   },
   "outputs": [],
   "source": [
    "# --- Write your code below ---"
   ]
  },
  {
   "cell_type": "code",
   "execution_count": 3,
   "metadata": {},
   "outputs": [
    {
     "data": {
      "text/html": [
       "<div>\n",
       "<style scoped>\n",
       "    .dataframe tbody tr th:only-of-type {\n",
       "        vertical-align: middle;\n",
       "    }\n",
       "\n",
       "    .dataframe tbody tr th {\n",
       "        vertical-align: top;\n",
       "    }\n",
       "\n",
       "    .dataframe thead th {\n",
       "        text-align: right;\n",
       "    }\n",
       "</style>\n",
       "<table border=\"1\" class=\"dataframe\">\n",
       "  <thead>\n",
       "    <tr style=\"text-align: right;\">\n",
       "      <th></th>\n",
       "      <th>URL</th>\n",
       "      <th>ID</th>\n",
       "      <th>Name</th>\n",
       "      <th>Subtitle</th>\n",
       "      <th>Icon URL</th>\n",
       "      <th>Average User Rating</th>\n",
       "      <th>User Rating Count</th>\n",
       "      <th>Price</th>\n",
       "      <th>In-app Purchases</th>\n",
       "      <th>Description</th>\n",
       "      <th>Developer</th>\n",
       "      <th>Age Rating</th>\n",
       "      <th>Languages</th>\n",
       "      <th>Size</th>\n",
       "      <th>Primary Genre</th>\n",
       "      <th>Genres</th>\n",
       "      <th>Original Release Date</th>\n",
       "      <th>Current Version Release Date</th>\n",
       "    </tr>\n",
       "  </thead>\n",
       "  <tbody>\n",
       "    <tr>\n",
       "      <th>0</th>\n",
       "      <td>https://apps.apple.com/us/app/sudoku/id284921427</td>\n",
       "      <td>284921427</td>\n",
       "      <td>Sudoku</td>\n",
       "      <td>NaN</td>\n",
       "      <td>https://is2-ssl.mzstatic.com/image/thumb/Purpl...</td>\n",
       "      <td>4.0</td>\n",
       "      <td>3553.0</td>\n",
       "      <td>2.99</td>\n",
       "      <td>NaN</td>\n",
       "      <td>Join over 21,000,000 of our fans and download ...</td>\n",
       "      <td>Mighty Mighty Good Games</td>\n",
       "      <td>4+</td>\n",
       "      <td>DA, NL, EN, FI, FR, DE, IT, JA, KO, NB, PL, PT...</td>\n",
       "      <td>15853568.0</td>\n",
       "      <td>Games</td>\n",
       "      <td>Games, Strategy, Puzzle</td>\n",
       "      <td>11/07/2008</td>\n",
       "      <td>30/05/2017</td>\n",
       "    </tr>\n",
       "    <tr>\n",
       "      <th>1</th>\n",
       "      <td>https://apps.apple.com/us/app/reversi/id284926400</td>\n",
       "      <td>284926400</td>\n",
       "      <td>Reversi</td>\n",
       "      <td>NaN</td>\n",
       "      <td>https://is4-ssl.mzstatic.com/image/thumb/Purpl...</td>\n",
       "      <td>3.5</td>\n",
       "      <td>284.0</td>\n",
       "      <td>1.99</td>\n",
       "      <td>NaN</td>\n",
       "      <td>The classic game of Reversi, also known as Oth...</td>\n",
       "      <td>Kiss The Machine</td>\n",
       "      <td>4+</td>\n",
       "      <td>EN</td>\n",
       "      <td>12328960.0</td>\n",
       "      <td>Games</td>\n",
       "      <td>Games, Strategy, Board</td>\n",
       "      <td>11/07/2008</td>\n",
       "      <td>17/05/2018</td>\n",
       "    </tr>\n",
       "    <tr>\n",
       "      <th>2</th>\n",
       "      <td>https://apps.apple.com/us/app/morocco/id284946595</td>\n",
       "      <td>284946595</td>\n",
       "      <td>Morocco</td>\n",
       "      <td>NaN</td>\n",
       "      <td>https://is5-ssl.mzstatic.com/image/thumb/Purpl...</td>\n",
       "      <td>3.0</td>\n",
       "      <td>8376.0</td>\n",
       "      <td>0.00</td>\n",
       "      <td>NaN</td>\n",
       "      <td>Play the classic strategy game Othello (also k...</td>\n",
       "      <td>Bayou Games</td>\n",
       "      <td>4+</td>\n",
       "      <td>EN</td>\n",
       "      <td>674816.0</td>\n",
       "      <td>Games</td>\n",
       "      <td>Games, Board, Strategy</td>\n",
       "      <td>11/07/2008</td>\n",
       "      <td>5/09/2017</td>\n",
       "    </tr>\n",
       "    <tr>\n",
       "      <th>3</th>\n",
       "      <td>https://apps.apple.com/us/app/sudoku-free/id28...</td>\n",
       "      <td>285755462</td>\n",
       "      <td>Sudoku (Free)</td>\n",
       "      <td>NaN</td>\n",
       "      <td>https://is3-ssl.mzstatic.com/image/thumb/Purpl...</td>\n",
       "      <td>3.5</td>\n",
       "      <td>190394.0</td>\n",
       "      <td>0.00</td>\n",
       "      <td>NaN</td>\n",
       "      <td>Top 100 free app for over a year.\\nRated \"Best...</td>\n",
       "      <td>Mighty Mighty Good Games</td>\n",
       "      <td>4+</td>\n",
       "      <td>DA, NL, EN, FI, FR, DE, IT, JA, KO, NB, PL, PT...</td>\n",
       "      <td>21552128.0</td>\n",
       "      <td>Games</td>\n",
       "      <td>Games, Strategy, Puzzle</td>\n",
       "      <td>23/07/2008</td>\n",
       "      <td>30/05/2017</td>\n",
       "    </tr>\n",
       "    <tr>\n",
       "      <th>4</th>\n",
       "      <td>https://apps.apple.com/us/app/senet-deluxe/id2...</td>\n",
       "      <td>285831220</td>\n",
       "      <td>Senet Deluxe</td>\n",
       "      <td>NaN</td>\n",
       "      <td>https://is1-ssl.mzstatic.com/image/thumb/Purpl...</td>\n",
       "      <td>3.5</td>\n",
       "      <td>28.0</td>\n",
       "      <td>2.99</td>\n",
       "      <td>NaN</td>\n",
       "      <td>\"Senet Deluxe - The Ancient Game of Life and A...</td>\n",
       "      <td>RoGame Software</td>\n",
       "      <td>4+</td>\n",
       "      <td>DA, NL, EN, FR, DE, EL, IT, JA, KO, NO, PT, RU...</td>\n",
       "      <td>34689024.0</td>\n",
       "      <td>Games</td>\n",
       "      <td>Games, Strategy, Board, Education</td>\n",
       "      <td>18/07/2008</td>\n",
       "      <td>22/07/2018</td>\n",
       "    </tr>\n",
       "    <tr>\n",
       "      <th>5</th>\n",
       "      <td>https://apps.apple.com/us/app/sudoku-classic-n...</td>\n",
       "      <td>286210009</td>\n",
       "      <td>Sudoku - Classic number puzzle</td>\n",
       "      <td>Original brain training</td>\n",
       "      <td>https://is1-ssl.mzstatic.com/image/thumb/Purpl...</td>\n",
       "      <td>3.0</td>\n",
       "      <td>47.0</td>\n",
       "      <td>0.00</td>\n",
       "      <td>1.99</td>\n",
       "      <td>Sudoku will tease your brain, challenge you or...</td>\n",
       "      <td>OutOfTheBit Ltd</td>\n",
       "      <td>4+</td>\n",
       "      <td>EN</td>\n",
       "      <td>48672768.0</td>\n",
       "      <td>Games</td>\n",
       "      <td>Games, Entertainment, Strategy, Puzzle</td>\n",
       "      <td>30/07/2008</td>\n",
       "      <td>29/04/2019</td>\n",
       "    </tr>\n",
       "    <tr>\n",
       "      <th>6</th>\n",
       "      <td>https://apps.apple.com/us/app/gravitation/id28...</td>\n",
       "      <td>286313771</td>\n",
       "      <td>Gravitation</td>\n",
       "      <td>NaN</td>\n",
       "      <td>https://is5-ssl.mzstatic.com/image/thumb/Purpl...</td>\n",
       "      <td>2.5</td>\n",
       "      <td>35.0</td>\n",
       "      <td>0.00</td>\n",
       "      <td>NaN</td>\n",
       "      <td>\"Gravitation is a new implementation of the pu...</td>\n",
       "      <td>Robert Farnum</td>\n",
       "      <td>4+</td>\n",
       "      <td>NaN</td>\n",
       "      <td>6328320.0</td>\n",
       "      <td>Games</td>\n",
       "      <td>Games, Entertainment, Puzzle, Strategy</td>\n",
       "      <td>30/07/2008</td>\n",
       "      <td>14/11/2013</td>\n",
       "    </tr>\n",
       "    <tr>\n",
       "      <th>7</th>\n",
       "      <td>https://apps.apple.com/us/app/colony/id286363959</td>\n",
       "      <td>286363959</td>\n",
       "      <td>Colony</td>\n",
       "      <td>NaN</td>\n",
       "      <td>https://is5-ssl.mzstatic.com/image/thumb/Purpl...</td>\n",
       "      <td>2.5</td>\n",
       "      <td>125.0</td>\n",
       "      <td>0.99</td>\n",
       "      <td>NaN</td>\n",
       "      <td>\"50 levels of addictive puzzling strategy fun!...</td>\n",
       "      <td>Chris Haynes</td>\n",
       "      <td>4+</td>\n",
       "      <td>EN</td>\n",
       "      <td>64333824.0</td>\n",
       "      <td>Games</td>\n",
       "      <td>Games, Strategy, Board</td>\n",
       "      <td>3/08/2008</td>\n",
       "      <td>3/10/2018</td>\n",
       "    </tr>\n",
       "    <tr>\n",
       "      <th>8</th>\n",
       "      <td>https://apps.apple.com/us/app/carte/id286566987</td>\n",
       "      <td>286566987</td>\n",
       "      <td>Carte</td>\n",
       "      <td>NaN</td>\n",
       "      <td>https://is3-ssl.mzstatic.com/image/thumb/Purpl...</td>\n",
       "      <td>2.5</td>\n",
       "      <td>44.0</td>\n",
       "      <td>0.00</td>\n",
       "      <td>NaN</td>\n",
       "      <td>\"Jeu simple qui consiste \\xe0 trouver comment ...</td>\n",
       "      <td>Jean-Francois Pautex</td>\n",
       "      <td>4+</td>\n",
       "      <td>FR</td>\n",
       "      <td>2657280.0</td>\n",
       "      <td>Games</td>\n",
       "      <td>Games, Strategy, Board, Entertainment</td>\n",
       "      <td>3/08/2008</td>\n",
       "      <td>23/11/2017</td>\n",
       "    </tr>\n",
       "    <tr>\n",
       "      <th>9</th>\n",
       "      <td>https://apps.apple.com/us/app/barrels-o-fun/id...</td>\n",
       "      <td>286682679</td>\n",
       "      <td>\"Barrels O' Fun\"</td>\n",
       "      <td>NaN</td>\n",
       "      <td>https://is4-ssl.mzstatic.com/image/thumb/Purpl...</td>\n",
       "      <td>2.5</td>\n",
       "      <td>184.0</td>\n",
       "      <td>0.00</td>\n",
       "      <td>NaN</td>\n",
       "      <td>Barrels O\\u2019 Fun is a simple but challengin...</td>\n",
       "      <td>BesqWare</td>\n",
       "      <td>4+</td>\n",
       "      <td>EN</td>\n",
       "      <td>1466515.0</td>\n",
       "      <td>Games</td>\n",
       "      <td>Games, Casual, Strategy</td>\n",
       "      <td>1/08/2008</td>\n",
       "      <td>1/08/2008</td>\n",
       "    </tr>\n",
       "  </tbody>\n",
       "</table>\n",
       "</div>"
      ],
      "text/plain": [
       "                                                 URL         ID  \\\n",
       "0   https://apps.apple.com/us/app/sudoku/id284921427  284921427   \n",
       "1  https://apps.apple.com/us/app/reversi/id284926400  284926400   \n",
       "2  https://apps.apple.com/us/app/morocco/id284946595  284946595   \n",
       "3  https://apps.apple.com/us/app/sudoku-free/id28...  285755462   \n",
       "4  https://apps.apple.com/us/app/senet-deluxe/id2...  285831220   \n",
       "5  https://apps.apple.com/us/app/sudoku-classic-n...  286210009   \n",
       "6  https://apps.apple.com/us/app/gravitation/id28...  286313771   \n",
       "7   https://apps.apple.com/us/app/colony/id286363959  286363959   \n",
       "8    https://apps.apple.com/us/app/carte/id286566987  286566987   \n",
       "9  https://apps.apple.com/us/app/barrels-o-fun/id...  286682679   \n",
       "\n",
       "                             Name                 Subtitle  \\\n",
       "0                          Sudoku                      NaN   \n",
       "1                         Reversi                      NaN   \n",
       "2                         Morocco                      NaN   \n",
       "3                   Sudoku (Free)                      NaN   \n",
       "4                    Senet Deluxe                      NaN   \n",
       "5  Sudoku - Classic number puzzle  Original brain training   \n",
       "6                     Gravitation                      NaN   \n",
       "7                          Colony                      NaN   \n",
       "8                           Carte                      NaN   \n",
       "9                \"Barrels O' Fun\"                      NaN   \n",
       "\n",
       "                                            Icon URL  Average User Rating  \\\n",
       "0  https://is2-ssl.mzstatic.com/image/thumb/Purpl...                  4.0   \n",
       "1  https://is4-ssl.mzstatic.com/image/thumb/Purpl...                  3.5   \n",
       "2  https://is5-ssl.mzstatic.com/image/thumb/Purpl...                  3.0   \n",
       "3  https://is3-ssl.mzstatic.com/image/thumb/Purpl...                  3.5   \n",
       "4  https://is1-ssl.mzstatic.com/image/thumb/Purpl...                  3.5   \n",
       "5  https://is1-ssl.mzstatic.com/image/thumb/Purpl...                  3.0   \n",
       "6  https://is5-ssl.mzstatic.com/image/thumb/Purpl...                  2.5   \n",
       "7  https://is5-ssl.mzstatic.com/image/thumb/Purpl...                  2.5   \n",
       "8  https://is3-ssl.mzstatic.com/image/thumb/Purpl...                  2.5   \n",
       "9  https://is4-ssl.mzstatic.com/image/thumb/Purpl...                  2.5   \n",
       "\n",
       "   User Rating Count  Price In-app Purchases  \\\n",
       "0             3553.0   2.99              NaN   \n",
       "1              284.0   1.99              NaN   \n",
       "2             8376.0   0.00              NaN   \n",
       "3           190394.0   0.00              NaN   \n",
       "4               28.0   2.99              NaN   \n",
       "5               47.0   0.00             1.99   \n",
       "6               35.0   0.00              NaN   \n",
       "7              125.0   0.99              NaN   \n",
       "8               44.0   0.00              NaN   \n",
       "9              184.0   0.00              NaN   \n",
       "\n",
       "                                         Description  \\\n",
       "0  Join over 21,000,000 of our fans and download ...   \n",
       "1  The classic game of Reversi, also known as Oth...   \n",
       "2  Play the classic strategy game Othello (also k...   \n",
       "3  Top 100 free app for over a year.\\nRated \"Best...   \n",
       "4  \"Senet Deluxe - The Ancient Game of Life and A...   \n",
       "5  Sudoku will tease your brain, challenge you or...   \n",
       "6  \"Gravitation is a new implementation of the pu...   \n",
       "7  \"50 levels of addictive puzzling strategy fun!...   \n",
       "8  \"Jeu simple qui consiste \\xe0 trouver comment ...   \n",
       "9  Barrels O\\u2019 Fun is a simple but challengin...   \n",
       "\n",
       "                  Developer Age Rating  \\\n",
       "0  Mighty Mighty Good Games         4+   \n",
       "1          Kiss The Machine         4+   \n",
       "2               Bayou Games         4+   \n",
       "3  Mighty Mighty Good Games         4+   \n",
       "4           RoGame Software         4+   \n",
       "5           OutOfTheBit Ltd         4+   \n",
       "6             Robert Farnum         4+   \n",
       "7              Chris Haynes         4+   \n",
       "8      Jean-Francois Pautex         4+   \n",
       "9                  BesqWare         4+   \n",
       "\n",
       "                                           Languages        Size  \\\n",
       "0  DA, NL, EN, FI, FR, DE, IT, JA, KO, NB, PL, PT...  15853568.0   \n",
       "1                                                 EN  12328960.0   \n",
       "2                                                 EN    674816.0   \n",
       "3  DA, NL, EN, FI, FR, DE, IT, JA, KO, NB, PL, PT...  21552128.0   \n",
       "4  DA, NL, EN, FR, DE, EL, IT, JA, KO, NO, PT, RU...  34689024.0   \n",
       "5                                                 EN  48672768.0   \n",
       "6                                                NaN   6328320.0   \n",
       "7                                                 EN  64333824.0   \n",
       "8                                                 FR   2657280.0   \n",
       "9                                                 EN   1466515.0   \n",
       "\n",
       "  Primary Genre                                  Genres Original Release Date  \\\n",
       "0         Games                 Games, Strategy, Puzzle            11/07/2008   \n",
       "1         Games                  Games, Strategy, Board            11/07/2008   \n",
       "2         Games                  Games, Board, Strategy            11/07/2008   \n",
       "3         Games                 Games, Strategy, Puzzle            23/07/2008   \n",
       "4         Games       Games, Strategy, Board, Education            18/07/2008   \n",
       "5         Games  Games, Entertainment, Strategy, Puzzle            30/07/2008   \n",
       "6         Games  Games, Entertainment, Puzzle, Strategy            30/07/2008   \n",
       "7         Games                  Games, Strategy, Board             3/08/2008   \n",
       "8         Games   Games, Strategy, Board, Entertainment             3/08/2008   \n",
       "9         Games                 Games, Casual, Strategy             1/08/2008   \n",
       "\n",
       "  Current Version Release Date  \n",
       "0                   30/05/2017  \n",
       "1                   17/05/2018  \n",
       "2                    5/09/2017  \n",
       "3                   30/05/2017  \n",
       "4                   22/07/2018  \n",
       "5                   29/04/2019  \n",
       "6                   14/11/2013  \n",
       "7                    3/10/2018  \n",
       "8                   23/11/2017  \n",
       "9                    1/08/2008  "
      ]
     },
     "execution_count": 3,
     "metadata": {},
     "output_type": "execute_result"
    }
   ],
   "source": [
    "game_data.head(10)\n"
   ]
  },
  {
   "cell_type": "code",
   "execution_count": null,
   "metadata": {},
   "outputs": [],
   "source": []
  },
  {
   "cell_type": "markdown",
   "metadata": {},
   "source": [
    "### Question 2. 获取数据整体信息"
   ]
  },
  {
   "cell_type": "markdown",
   "metadata": {},
   "source": [
    "从上一个问题的输出，你能看出数据总共有18列，请用describe()函数来获取大致统计信息。"
   ]
  },
  {
   "cell_type": "code",
   "execution_count": 16,
   "metadata": {
    "scrolled": true
   },
   "outputs": [],
   "source": [
    "# --- Write your code below ---"
   ]
  },
  {
   "cell_type": "markdown",
   "metadata": {},
   "source": [
    "### Question 3. 处理缺失值"
   ]
  },
  {
   "cell_type": "markdown",
   "metadata": {},
   "source": [
    "有一些条目的一些属性信息是缺失的(null)，妨碍了我们对数据的处理，请进行一些预处理。\n",
    "\n",
    "比如没有内购信息的条目，补充数据为0；没有副标题的条目，补全副标题为NOSUBTITILE。"
   ]
  },
  {
   "cell_type": "code",
   "execution_count": 17,
   "metadata": {},
   "outputs": [],
   "source": [
    "# --- Write your code below ---"
   ]
  },
  {
   "cell_type": "markdown",
   "metadata": {},
   "source": [
    "### Question 4. 绘制折线图(Plot a line chart)"
   ]
  },
  {
   "cell_type": "markdown",
   "metadata": {},
   "source": [
    "假如我们想知道”从08年到18年每年有多少游戏发布“，请绘制一幅折线图来说明结果。"
   ]
  },
  {
   "cell_type": "code",
   "execution_count": 12,
   "metadata": {
    "scrolled": true
   },
   "outputs": [],
   "source": [
    "# --- Write your code below ---"
   ]
  },
  {
   "cell_type": "markdown",
   "metadata": {},
   "source": [
    "请写出**两个**从图中得到的有趣的发现。\n",
    "\n",
    "**Findings**\n",
    "1. [ADD TEXT]\n",
    "2. [ADD TEXT]"
   ]
  },
  {
   "cell_type": "markdown",
   "metadata": {},
   "source": [
    "### Question 5. 绘制条形图(Plot a bar chart)"
   ]
  },
  {
   "cell_type": "markdown",
   "metadata": {},
   "source": [
    "注:histogram用来描述的是numerical变量，而bar plot用来描述的是categorical类型的变量.\n",
    "\n",
    "假如你想知道每个不同游戏类型分类下都有多少游戏，请考虑如何绘制一幅条形图展现你的结果。"
   ]
  },
  {
   "cell_type": "code",
   "execution_count": 13,
   "metadata": {
    "scrolled": true
   },
   "outputs": [],
   "source": [
    "# --- Write your code below ---"
   ]
  },
  {
   "cell_type": "markdown",
   "metadata": {},
   "source": [
    "请写出**两个**从图中得到的有趣的发现。\n",
    "\n",
    "**Findings**\n",
    "1. [ADD TEXT]\n",
    "2. [ADD TEXT]"
   ]
  },
  {
   "cell_type": "markdown",
   "metadata": {},
   "source": [
    "### Question 6. 绘制柱形图(Plot a histogram)"
   ]
  },
  {
   "cell_type": "markdown",
   "metadata": {},
   "source": [
    "游戏的价格是如何分布的？绘制柱形图展现你的结果。"
   ]
  },
  {
   "cell_type": "code",
   "execution_count": 14,
   "metadata": {},
   "outputs": [],
   "source": [
    "# --- Write your code below ---"
   ]
  },
  {
   "cell_type": "markdown",
   "metadata": {},
   "source": [
    "请写出**两个**从图中得到的有趣的发现。\n",
    "\n",
    "**Findings**\n",
    "1. [ADD TEXT]\n",
    "2. [ADD TEXT]"
   ]
  },
  {
   "cell_type": "markdown",
   "metadata": {},
   "source": [
    "下次作业再见"
   ]
  }
 ],
 "metadata": {
  "kernelspec": {
   "display_name": "Python 3",
   "language": "python",
   "name": "python3"
  },
  "language_info": {
   "codemirror_mode": {
    "name": "ipython",
    "version": 3
   },
   "file_extension": ".py",
   "mimetype": "text/x-python",
   "name": "python",
   "nbconvert_exporter": "python",
   "pygments_lexer": "ipython3",
   "version": "3.7.1"
  }
 },
 "nbformat": 4,
 "nbformat_minor": 2
}
