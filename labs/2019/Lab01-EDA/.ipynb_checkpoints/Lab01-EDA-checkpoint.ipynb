{
 "cells": [
  {
   "cell_type": "markdown",
   "metadata": {},
   "source": [
    "# 实验一 EDA"
   ]
  },
  {
   "cell_type": "markdown",
   "metadata": {},
   "source": [
    "## 实验目标"
   ]
  },
  {
   "cell_type": "markdown",
   "metadata": {},
   "source": [
    "统计分析之所以在数据科学研究中占有绝对重要的地位主要有两个原因。第一，它有助于更深层次理解数据，而这个过程就是所谓的**EDA(探索式数据分析)** 。第二，它有助于我们推断样本与整体的关系，这个过程称为**推断** 。本次实验我们将会通过分析一个非常有趣的实验集 - [Mobile Strategy Games](https://www.kaggle.com/tristan581/17k-apple-app-store-strategy-games) 来学习EDA和统计推断。\n",
    "\n",
    "具体来说，你将会学习以下几点：\n",
    "\n",
    "1. 能够对单列信息进行EDA分析\n",
    "2. 能够从多列信息综合进行EDA分析\n",
    "3. 能够从可视化图标中捕获信息\n",
    "4. 能够对数据提出有建设性的问题并进行研究\n",
    "5. 能够从样本估计整体情况\n",
    "\n",
    "在本次实验中，你可以使用[pandas](https://pandas.pydata.org/) 或者PySpark来计算数据，并且使用 [matplotlib](https://matplotlib.org/) 或者 [seaborn](https://seaborn.pydata.org) 来做图。 \n"
   ]
  },
  {
   "cell_type": "markdown",
   "metadata": {},
   "source": [
    "## Part 1. EDA"
   ]
  },
  {
   "cell_type": "markdown",
   "metadata": {},
   "source": [
    "**嘿！你好**\n",
    "\n",
    "在日常生活中，我们经常性地会直接或间接接触到游戏相关的内容。游戏发展至今，已经有了纷繁复杂的游戏玩法和游戏内容。就算你可能不是一位游戏发烧友，你也一定在手机之类的平台上玩过像数独(Soduku)这样的**决策类游戏**。今天，我们就以iOS平台下策略游戏为对象进行研究，带领大家对数据科学有一个更直观的概念。\n",
    "\n",
    "哦，我们还没有说我们要干什么呢。本次我们当然不是要求大家开发游戏，而是更像作为一个数据分析师，来帮助一个刚刚成立的游戏工作室(或者个人)来决定应该开发什么样的游戏才能获得更好的收益。你需要考虑的是什么样的游戏比较受欢迎，怎么让游戏传播地更加迅速、反响更加热烈。\n",
    "\n",
    "我们已经上传了数据集，当然你也可以从[原处](https://www.kaggle.com/tristan581/17k-apple-app-store-strategy-games)自行下载数据集，并和本文档放在同一目录之下。\n",
    "\n",
    "这次的数据集总共包含16847个条目，每个条目含有URL和ID两个元属性以及其他16个属性变量，他们分别是：\n",
    "1. URL -详情链接\n",
    "2. ID -应用分配的ID\n",
    "3. Name -游戏的名字\n",
    "4. Subtitle -游戏的副标题\n",
    "5. Icon URL -游戏封面图片链接\n",
    "6. Average User Rating -平均用户评分（对齐到0.5）\n",
    "7. User Rating Count -全球评分数量（NULL值代表低于5个）\n",
    "8. Price -售价（单位美元）\n",
    "9. In-app Purchases -各类内购信息\n",
    "10. Description -应用描述\n",
    "11. Developer -开发者\n",
    "12. Age Rating -年龄分级情况（4+，9+，12+或17+）\n",
    "13. Languages -ISO2A标准 语言种类识别码\n",
    "14. Size -软件大小（单位Bytes）\n",
    "15. Primary Genre -主分类\n",
    "16. Genres -应用分类\n",
    "17. Original Release Date -应用发布时间\n",
    "18. Current Version Release Date -当前版本发布时间\n",
    "\n",
    "请尽可能地使用这些数据，获得想要的分析结果！"
   ]
  },
  {
   "cell_type": "markdown",
   "metadata": {},
   "source": [
    "我们先把数据集按照DataFrame的形式读入"
   ]
  },
  {
   "cell_type": "code",
   "execution_count": 8,
   "metadata": {},
   "outputs": [],
   "source": [
    "import pandas as pd\n",
    "\n",
    "import numpy as np\n",
    "\n",
    "game_data = pd.read_csv(\"appstore_games.csv\")\n"
   ]
  },
  {
   "cell_type": "markdown",
   "metadata": {},
   "source": [
    "现在，我们开始EDA分析。"
   ]
  },
  {
   "cell_type": "markdown",
   "metadata": {},
   "source": [
    "### Question 1. 显示数据 \n",
    "显示前10条数据"
   ]
  },
  {
   "cell_type": "code",
   "execution_count": 15,
   "metadata": {
    "scrolled": true
   },
   "outputs": [],
   "source": [
    "# --- Write your code below ---"
   ]
  },
  {
   "cell_type": "code",
   "execution_count": null,
   "metadata": {},
   "outputs": [],
   "source": []
  },
  {
   "cell_type": "markdown",
   "metadata": {},
   "source": [
    "### Question 2. 获取数据整体信息"
   ]
  },
  {
   "cell_type": "markdown",
   "metadata": {},
   "source": [
    "从上一个问题的输出，你能看出数据总共有18列，请用describe()函数来获取大致统计信息。"
   ]
  },
  {
   "cell_type": "code",
   "execution_count": 16,
   "metadata": {
    "scrolled": true
   },
   "outputs": [],
   "source": [
    "# --- Write your code below ---"
   ]
  },
  {
   "cell_type": "markdown",
   "metadata": {},
   "source": [
    "### Question 3. 处理缺失值"
   ]
  },
  {
   "cell_type": "markdown",
   "metadata": {},
   "source": [
    "有一些条目的一些属性信息是缺失的(null)，妨碍了我们对数据的处理，请进行一些预处理。\n",
    "\n",
    "比如没有内购信息的条目，补充数据为0；没有副标题的条目，补全副标题为NOSUBTITILE。"
   ]
  },
  {
   "cell_type": "code",
   "execution_count": 17,
   "metadata": {},
   "outputs": [],
   "source": [
    "# --- Write your code below ---"
   ]
  },
  {
   "cell_type": "markdown",
   "metadata": {},
   "source": [
    "### Question 4. 绘制折线图(Plot a line chart)"
   ]
  },
  {
   "cell_type": "markdown",
   "metadata": {},
   "source": [
    "假如我们想知道”从08年到18年每年有多少游戏发布“，请绘制一幅折线图来说明结果。"
   ]
  },
  {
   "cell_type": "code",
   "execution_count": 12,
   "metadata": {
    "scrolled": true
   },
   "outputs": [],
   "source": [
    "# --- Write your code below ---"
   ]
  },
  {
   "cell_type": "markdown",
   "metadata": {},
   "source": [
    "请写出**两个**从图中得到的有趣的发现。\n",
    "\n",
    "**Findings**\n",
    "1. [ADD TEXT]\n",
    "2. [ADD TEXT]"
   ]
  },
  {
   "cell_type": "markdown",
   "metadata": {},
   "source": [
    "### Question 5. 绘制条形图(Plot a bar chart)"
   ]
  },
  {
   "cell_type": "markdown",
   "metadata": {},
   "source": [
    "注:histogram用来描述的是numerical变量，而bar plot用来描述的是categorical类型的变量.\n",
    "\n",
    "假如你想知道每个不同游戏类型分类下都有多少游戏，请考虑如何绘制一幅条形图展现你的结果。"
   ]
  },
  {
   "cell_type": "code",
   "execution_count": 13,
   "metadata": {
    "scrolled": true
   },
   "outputs": [],
   "source": [
    "# --- Write your code below ---"
   ]
  },
  {
   "cell_type": "markdown",
   "metadata": {},
   "source": [
    "请写出**两个**从图中得到的有趣的发现。\n",
    "\n",
    "**Findings**\n",
    "1. [ADD TEXT]\n",
    "2. [ADD TEXT]"
   ]
  },
  {
   "cell_type": "markdown",
   "metadata": {},
   "source": [
    "### Question 6. 绘制柱形图(Plot a histogram)"
   ]
  },
  {
   "cell_type": "markdown",
   "metadata": {},
   "source": [
    "游戏的价格是如何分布的？绘制柱形图展现你的结果。"
   ]
  },
  {
   "cell_type": "code",
   "execution_count": 14,
   "metadata": {},
   "outputs": [],
   "source": [
    "# --- Write your code below ---"
   ]
  },
  {
   "cell_type": "markdown",
   "metadata": {},
   "source": [
    "请写出**两个**从图中得到的有趣的发现。\n",
    "\n",
    "**Findings**\n",
    "1. [ADD TEXT]\n",
    "2. [ADD TEXT]"
   ]
  },
  {
   "cell_type": "markdown",
   "metadata": {},
   "source": [
    "下次作业再见"
   ]
  }
 ],
 "metadata": {
  "kernelspec": {
   "display_name": "Python 3",
   "language": "python",
   "name": "python3"
  },
  "language_info": {
   "codemirror_mode": {
    "name": "ipython",
    "version": 3
   },
   "file_extension": ".py",
   "mimetype": "text/x-python",
   "name": "python",
   "nbconvert_exporter": "python",
   "pygments_lexer": "ipython3",
   "version": "3.7.1"
  }
 },
 "nbformat": 4,
 "nbformat_minor": 2
}
