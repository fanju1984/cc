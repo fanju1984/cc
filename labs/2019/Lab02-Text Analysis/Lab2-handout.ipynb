{
 "cells": [
  {
   "cell_type": "markdown",
   "metadata": {},
   "source": [
    "# 实验说明--Lab2"
   ]
  },
  {
   "cell_type": "markdown",
   "metadata": {},
   "source": [
    "## 第一部分 倒排索引及词云"
   ]
  },
  {
   "cell_type": "markdown",
   "metadata": {},
   "source": [
    "我们生活在一个富媒体的时代，众多繁杂的信息以各种各样的形式涌入到我们日常生活的学习工作之中，可是却同时带来了一个重要的问题——**信息失真**。\n",
    "\n",
    "它不仅发生在你主动获取信息的过程中——比如说阅读新闻的时候。有可能你赖以获取信息的来源是不真实的，这一类失真的主要特点是**假**；它也可能发生在你被动获取信息的过程中——比如垃圾短信。它让你的信息量变得低效、偏离你获取信息的标的，而这一类失真的主要特点是**杂**。\n",
    "\n",
    "下面我们将会以**虚假新闻数据集**和**垃圾短信数据集**实现两个数据分析的实例，来看看我们所学到的知识技能能够如何帮助我们解决现实中面临的种种问题。"
   ]
  },
  {
   "cell_type": "markdown",
   "metadata": {},
   "source": [
    "### 0.数据格式\n",
    "\n",
    "随附fake_news.csv是一个谣言新闻集，包含两列，第一列为“id”，第二部分为“context”，是新闻标题。 请使用pandas对数据进行观察。"
   ]
  },
  {
   "cell_type": "code",
   "execution_count": 6,
   "metadata": {},
   "outputs": [],
   "source": [
    "import pandas as pd\n",
    "\n",
    "data = pd.read_csv(\"./fake_news.csv\")\n"
   ]
  },
  {
   "cell_type": "markdown",
   "metadata": {},
   "source": [
    "### 1.倒排索引\n",
    "\n",
    "- 请将以下所有关键词，构建倒排索引：\n",
    "  - 对比类型的关键词：\n",
    "      - 中国，美国，日本\n",
    "      - 北京，深圳\n",
    "      - 男人/男子，女人\n",
    "      - 结婚，离婚\n",
    "  - 话题有关的关键词：\n",
    "      - 农村，网友，孩子，怀孕，\n",
    "      - 娱乐圈，耍大牌，\n",
    "      - 致癌，健康，食物，减肥，脱发\n",
    "      - 真相，死亡，自杀，\n",
    "  - 标题党的关键词：\n",
    "      - 方法，原来，竟然，真的，揭秘，千万，注意，快速，原因，一招\n",
    "- 测试倒排索引构建是否正确\n",
    "  - 我们将给出若干关键词集合（如[中国,男人]，[怀孕,一招]），请使用倒排索引找出包含所有关键词的标题ID。\n",
    "  - 隐藏题为加分项，现场出题演示结果。"
   ]
  },
  {
   "cell_type": "code",
   "execution_count": 7,
   "metadata": {},
   "outputs": [],
   "source": [
    "import jieba\n",
    "import collections"
   ]
  },
  {
   "cell_type": "markdown",
   "metadata": {},
   "source": [
    "## 测试倒排索引构建是否正确\n",
    "\n",
    "我们将给出若干关键词集合，请使用倒排索引找出**同时**包含**所有**关键词的标题ID。隐藏题为加分项，现场出题演示结果。\n",
    "\n",
    "### (1). [中国，男人]"
   ]
  },
  {
   "cell_type": "code",
   "execution_count": 8,
   "metadata": {},
   "outputs": [],
   "source": [
    "#Add Your Code"
   ]
  },
  {
   "cell_type": "markdown",
   "metadata": {},
   "source": [
    "### (2). [北京，深圳]"
   ]
  },
  {
   "cell_type": "code",
   "execution_count": 9,
   "metadata": {},
   "outputs": [],
   "source": [
    "#Add Your Code"
   ]
  },
  {
   "cell_type": "markdown",
   "metadata": {},
   "source": [
    "### (3). [怀孕，一招]"
   ]
  },
  {
   "cell_type": "code",
   "execution_count": 10,
   "metadata": {},
   "outputs": [],
   "source": [
    "#Add Your Code"
   ]
  },
  {
   "cell_type": "markdown",
   "metadata": {},
   "source": [
    "### (4). [隐藏]"
   ]
  },
  {
   "cell_type": "code",
   "execution_count": 11,
   "metadata": {},
   "outputs": [],
   "source": [
    "#Add Your Code"
   ]
  },
  {
   "cell_type": "markdown",
   "metadata": {},
   "source": [
    "### (5). [隐藏]"
   ]
  },
  {
   "cell_type": "code",
   "execution_count": 12,
   "metadata": {},
   "outputs": [],
   "source": [
    "#Add Your Code"
   ]
  },
  {
   "cell_type": "markdown",
   "metadata": {},
   "source": [
    "### 2.词云\n",
    "\n",
    "请你选择2个自己感兴趣的关键词或者关键词集合打印词云。"
   ]
  },
  {
   "cell_type": "code",
   "execution_count": 13,
   "metadata": {},
   "outputs": [
    {
     "ename": "ModuleNotFoundError",
     "evalue": "No module named 'wordcloud'",
     "output_type": "error",
     "traceback": [
      "\u001b[0;31m---------------------------------------------------------------------------\u001b[0m",
      "\u001b[0;31mModuleNotFoundError\u001b[0m                       Traceback (most recent call last)",
      "\u001b[0;32m<ipython-input-13-b65183956bcd>\u001b[0m in \u001b[0;36m<module>\u001b[0;34m\u001b[0m\n\u001b[0;32m----> 1\u001b[0;31m \u001b[0;32mfrom\u001b[0m \u001b[0mwordcloud\u001b[0m \u001b[0;32mimport\u001b[0m \u001b[0mWordCloud\u001b[0m\u001b[0;34m\u001b[0m\u001b[0;34m\u001b[0m\u001b[0m\n\u001b[0m\u001b[1;32m      2\u001b[0m \u001b[0;32mimport\u001b[0m \u001b[0mmatplotlib\u001b[0m\u001b[0;34m.\u001b[0m\u001b[0mpyplot\u001b[0m \u001b[0;32mas\u001b[0m \u001b[0mplt\u001b[0m\u001b[0;34m\u001b[0m\u001b[0;34m\u001b[0m\u001b[0m\n",
      "\u001b[0;31mModuleNotFoundError\u001b[0m: No module named 'wordcloud'"
     ]
    }
   ],
   "source": [
    "# Use WordCloud\n"
   ]
  },
  {
   "cell_type": "markdown",
   "metadata": {},
   "source": [
    "请根据词云内容，写出你觉得有意思的发现：\n",
    "\n",
    "- 词云1：[Add Text]\n",
    "\n",
    "- 词云2：[Add Text]\n"
   ]
  },
  {
   "cell_type": "markdown",
   "metadata": {},
   "source": [
    "## 第二部分 谣言文本分析"
   ]
  },
  {
   "cell_type": "markdown",
   "metadata": {},
   "source": [
    "### 0.数据格式\n",
    "随附文件中\n",
    "\n",
    "- data_train.csv和data_test.csv分别是垃圾短信的训练集和测试集。\n",
    "\n",
    "- 格式为Spam,Context,分别代表着**是否是垃圾短信**和**文本内容**.如图所示.\n",
    "\n",
    "-\t注意！\n",
    "\n",
    "\t- 数据需要预处理\n",
    "\t- 其中有重复项，请考虑如何消除重复项对结果的影响"
   ]
  },
  {
   "cell_type": "code",
   "execution_count": 1,
   "metadata": {},
   "outputs": [],
   "source": [
    "import pandas as pd\n",
    "import numpy as np\n",
    "\n",
    "train_data = pd.read_csv(\"./data_train_v2.csv\")\n"
   ]
  },
  {
   "cell_type": "markdown",
   "metadata": {},
   "source": [
    "### 1.建立分类器\n",
    "\n",
    "通过给定数据集，构造自己的分类器，并在notebook中简要描述算法思想。"
   ]
  },
  {
   "cell_type": "code",
   "execution_count": null,
   "metadata": {},
   "outputs": [],
   "source": []
  },
  {
   "cell_type": "markdown",
   "metadata": {},
   "source": [
    "### 2.测试集评测\n",
    "\n",
    "随附文件中test_query.csv可作为自我测评数据集，通过比对分类器输出和每项的Authenticity得出准确率"
   ]
  },
  {
   "cell_type": "code",
   "execution_count": null,
   "metadata": {},
   "outputs": [],
   "source": []
  },
  {
   "cell_type": "markdown",
   "metadata": {},
   "source": [
    "### 3.最终评测结果\n",
    "\n",
    "验收时，会给出一个和test_query.csv格式相同的测试集，检测分类器准确率。"
   ]
  },
  {
   "cell_type": "code",
   "execution_count": null,
   "metadata": {},
   "outputs": [],
   "source": []
  }
 ],
 "metadata": {
  "kernelspec": {
   "display_name": "Python 3",
   "language": "python",
   "name": "python3"
  },
  "language_info": {
   "codemirror_mode": {
    "name": "ipython",
    "version": 3
   },
   "file_extension": ".py",
   "mimetype": "text/x-python",
   "name": "python",
   "nbconvert_exporter": "python",
   "pygments_lexer": "ipython3",
   "version": "3.7.1"
  }
 },
 "nbformat": 4,
 "nbformat_minor": 2
}
