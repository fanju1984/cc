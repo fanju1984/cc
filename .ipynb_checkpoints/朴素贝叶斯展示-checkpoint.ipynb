{
 "cells": [
  {
   "cell_type": "markdown",
   "metadata": {},
   "source": [
    "# 朴素贝叶斯和SVM实例讲解与分析\n"
   ]
  },
  {
   "attachments": {},
   "cell_type": "markdown",
   "metadata": {},
   "source": [
    "## 朴素贝叶斯\n",
    "### 朴素贝叶斯的原理\n",
    "- 数学推导\n",
    "\n",
    "#### 1\n",
    "P(A) -> A 事件发生的概率，例如明天天晴的概率\n",
    "\n",
    "P(A|B) -> 条件概率，B 事件发生的前提下 A 事件发生的概率，例如明天天晴而我又没带伞的概率\n",
    "\n",
    "P(输入句子) -> 这个句子在训练数据中出现的概率\n",
    "\n",
    "P(赌博) -> 赌博类别的句子在训练数据中出现的概率\n",
    "\n",
    "P(赌博 | 输入句子) -> 输入句子是赌博类别的概率（也是我们最终要求的值）\n",
    "\n",
    "P(赌博 | 输入句子) + P(正常 | 输入句子) = 100%\n",
    "\n",
    "#### 2\n",
    "\n",
    "P(赌博|输入句子) = P(赌博，输入句子) / P(输入句子)\n",
    "\n",
    "P(输入句子|赌博) = P(赌博，输入句子) / P(赌博) \n",
    "\n",
    "P(赌博|输入句子) = P(输入句子|赌博) * P(赌博) / P(输入句子)\n",
    "\n",
    "#### 3\n",
    "\n",
    "##### P(赌博)\n",
    "\n",
    "指训练数据中，赌博类别的句子占训练数据的百分比。\n",
    "\n",
    "----\n",
    "\n",
    "##### P(输入句子)\n",
    "\n",
    "指这个输入句子出现在训练数据中的概率。我们最终目的是判断输入句子是哪个类别的概率比较高，也就是比较P(赌博|输入句子)与P(正常|输入句子)，由贝叶斯定理：\n",
    "\n",
    ">P(赌博|输入句子) = P(输入句子|赌博) * P(赌博) / P(输入句子) \n",
    "\n",
    ">P(正常|输入句子) = P(输入句子|正常) * P(正常) / P(输入句子) \n",
    "\n",
    "\n",
    "\n",
    ">P(赌博|输入句子) = P(输入句子|赌博) * P(赌博) \n",
    "\n",
    ">P(正常|输入句子) = P(输入句子|正常) * P(正常)\n",
    "\n",
    "-----\n",
    "\n",
    "##### P(输入句子|赌博)\n",
    "\n",
    "最关键的就是求P(输入句子|赌博)，直接求输入句子在赌博类别句子中出现的概率非常困难，因为训练数据不可能包含所有句子，很可能并没有输入句子。什么意思呢？因为同一个句子，把词语进行不同的排列组合都能成立，例如：\n",
    "\n",
    ">奖金将在您完成首存后即可存入您的账户。真人荷官，六合彩，赌球欢迎来到全新番摊游戏！\n",
    "\n",
    "可以变成\n",
    "\n",
    ">奖金将在您完成首存后即可存入您的账户。六合彩，赌球，真人荷官欢迎来到全新番摊游戏！\n",
    "\n",
    "或者\n",
    "\n",
    ">欢迎来到全新番摊游戏，奖金将在您完成首存后即可存入您的账户。六合彩，真人荷官，赌球！\n",
    "\n",
    "稍微变换词语的位置就是一个新的句子了，训练数据不可能把所有排列组合的句子都加进去，因为实在太多了。所以当我们遇到一个输入句子，很可能它在训练数据中没有出现，那么P(输入句子|类别)对应的概率都为零，这显然不是真实的结果。也会导致我们的分类器出错，这个时候该怎么办呢？刚刚在贝叶斯模型中我们提到，它会将一个句子分成不同的词语来综合分析，那我们是不是也可以把句子当成词语的集合呢？\n",
    "\n",
    "警方召开了全省集中打击赌博违法犯罪活动专项行动电视电话会议。会议的重点是“查处”六合彩、赌球赌马等赌博活动。\n",
    "\n",
    "警方召开了全省…赌马等赌博活动 = 警方 + 召开 + 全省…+赌博活动\n",
    "\n",
    "即：\n",
    "\n",
    "P(输入句子|赌博) = (P(词语1) * P(词语2|词语1) * P(词语3|词语2))|赌博) ≈ P(词语1)|P(赌博) * P(词语2)|P(赌博) * P(词语3)|P(赌博)\n",
    "\n",
    "P(警方召开了全省…赌马等赌博活动。|赌博) = P(警方|赌博) * P(召开|赌博) * P(全省|赌博) … * P(赌马|赌博) * P(赌博活动|赌博)\n",
    "\n",
    "我们把P(输入句子|赌博)分解成所有P(词语|赌博)概率的乘积，然后通过训练数据，计算每个词语在不同类别出现的概率。最终获取的是输入句子有效词语在不同类别中的概率。\n",
    "\n",
    "\n",
    "词语 |正常|\t赌博\n",
    ":--|:--:|--:\n",
    "警方|\t0.8|\t0.2\n",
    "召开|\t0.7|\t0.3\n",
    "全省|\t0.7|\t0.3\n",
    "赌马|\t0.4|\t0.6\n",
    "赌球|\t0.3|\t0.7\n",
    "赌博活动|\t0.4|\t0.6\n",
    "---|---|---\n",
    "综合概率|\t0.8|\t0.2\n",
    "\n",
    "在上面的例子中，虽然赌马，赌球，赌博活动这几个词是赌博类别的概率很高，但是综合所有词语，分类器判断输入句子有80%的概率是正常句子。简单来说，要判断句子是某个类别的概率，只需要计算该句子有效部分的词语的在该类别概率的乘积。\n",
    "\n"
   ]
  },
  {
   "cell_type": "code",
   "execution_count": 53,
   "metadata": {},
   "outputs": [
    {
     "ename": "SyntaxError",
     "evalue": "invalid syntax (<ipython-input-53-710d8c6aaf41>, line 10)",
     "output_type": "error",
     "traceback": [
      "\u001b[0;36m  File \u001b[0;32m\"<ipython-input-53-710d8c6aaf41>\"\u001b[0;36m, line \u001b[0;32m10\u001b[0m\n\u001b[0;31m    print \"Full Mode:\", \"/ \".join(seg_list)  # 全模式\u001b[0m\n\u001b[0m                     ^\u001b[0m\n\u001b[0;31mSyntaxError\u001b[0m\u001b[0;31m:\u001b[0m invalid syntax\n"
     ]
    }
   ],
   "source": [
    "# 安装结巴分词\n",
    "!pip install jieba\n",
    "\n",
    "\n",
    "\n",
    "\n"
   ]
  },
  {
   "cell_type": "markdown",
   "metadata": {},
   "source": [
    "### jieba分词\n",
    "- jieba.cut方法接受两个输入参数: 1) 第一个参数为需要分词的字符串 2）cut_all参数用来控制是否采用全模式\n",
    "- jieba.cut_for_search方法接受一个参数：需要分词的字符串,该方法适合用于搜索引擎构建倒排索引的分词，粒度比较细 注意：待分词的字符串可以是gbk字符串、utf-8字符串或者unicode\n",
    "- jieba.cut以及jieba.cut_for_search返回的结构都是一个可迭代的generator，可以使用for循环来获得分词后得到的每一个词语(unicode)，也可以用list(jieba.cut(…))转化为list"
   ]
  },
  {
   "cell_type": "code",
   "execution_count": 62,
   "metadata": {},
   "outputs": [
    {
     "name": "stdout",
     "output_type": "stream",
     "text": [
      "我/ 来到/ 北京/ 清华/ 清华大学/ 华大/ 大学\n",
      "我/ 来到/ 北京/ 清华大学\n",
      "他, 来到, 了, 网易, 杭研, 大厦\n",
      "小明, 硕士, 毕业, 于, 中国, 科学, 学院, 科学院, 中国科学院, 计算, 计算所, ，, 后, 在, 日本, 京都, 大学, 日本京都大学, 深造\n"
     ]
    }
   ],
   "source": [
    "# jieba分词的功能演示\n",
    "\n",
    "\n",
    "import jieba\n",
    "\n",
    "seg_list = jieba.cut(\"我来到北京清华大学\", cut_all=True)\n",
    "print(\"/ \".join(seg_list) )# 全模式\n",
    "\n",
    "seg_list = jieba.cut(\"我来到北京清华大学\", cut_all=False)\n",
    "print (\"/ \".join(seg_list) )# 精确模式\n",
    "\n",
    "seg_list = jieba.cut(\"他来到了网易杭研大厦\")  # 默认是精确模式\n",
    "print (\", \".join(seg_list))\n",
    "\n",
    "seg_list = jieba.cut_for_search(\"小明硕士毕业于中国科学院计算所，后在日本京都大学深造\")  # 搜索引擎模式\n",
    "print( \", \".join(seg_list))"
   ]
  },
  {
   "cell_type": "markdown",
   "metadata": {},
   "source": [
    "### cherry分类器的使用\n",
    "\n",
    "[cherry的github地址](https://github.com/Windsooon/cherry)\n",
    "\n",
    "- cherry 自带两个预训练模型，使用预训练模型进行分类只需一行代码。使用自己的数据集进行定制训练也只需要十行代码。同时 cherry 支持自定义分词算法，分类算法以及 stop words 词库。\n",
    "\n",
    "#### 安装"
   ]
  },
  {
   "cell_type": "code",
   "execution_count": null,
   "metadata": {},
   "outputs": [],
   "source": [
    "\n",
    "# 安装cherry分类器\n",
    "!pip install -U cherry"
   ]
  },
  {
   "cell_type": "markdown",
   "metadata": {},
   "source": [
    "#### 使用方法\n",
    "由于数据量过大，cherry 库并没有包含训练数据，所以预训练模型只支持 classify() 方法，使用其他方法需使用自定义数据集。 预训练模型包含 2个 数据集，分别是：\n",
    "\n",
    "赌博 / 正常 / 政治 / 色情 (model='harmful'，4个 类别包含约 1000条 中文句子)\n",
    "彩票 / 科技 / 财经 / 房产 / 社会 / 体育 / 娱乐 (model=news，7个 类别包含约 45000条 中文新闻)\n",
    "使用预训练模型进行文本分类非常简单，只需要直接调用 classify() 方法，可以指定两个参数，text 是由待分类文本组成的列表，models 是训练时指定的文件夹名。"
   ]
  },
  {
   "cell_type": "code",
   "execution_count": 65,
   "metadata": {},
   "outputs": [
    {
     "data": {
      "text/plain": [
       "array([[['2', '她们'],\n",
       "        ['1', '网络'],\n",
       "        ['1', '热情'],\n",
       "        ['1', '方面'],\n",
       "        ['1', '数据分析'],\n",
       "        ['1', '希望'],\n",
       "        ['1', '工作'],\n",
       "        ['1', '学习'],\n",
       "        ['1', '从而']]], dtype='<U21')"
      ]
     },
     "execution_count": 65,
     "metadata": {},
     "output_type": "execute_result"
    }
   ],
   "source": [
    "import cherry\n",
    "\n",
    "# 基本的测试案例\n",
    "res = cherry.classify(model='harmful', text=['她们对计算机很有热情，也希望学习到数据分析，网络爬虫，人工智能等方面的知识，从而运用在她们工作上'])\n",
    "#输出待分类文本中前 20个 词语（按出现频率降序排列）\n",
    "res.word_list\n",
    "    "
   ]
  },
  {
   "cell_type": "code",
   "execution_count": 67,
   "metadata": {},
   "outputs": [
    {
     "name": "stdout",
     "output_type": "stream",
     "text": [
      "返回结果分别对应 赌博，正常，政治，色情 4个 类别的概率\n"
     ]
    },
    {
     "data": {
      "text/plain": [
       "array([[4.43336608e-03, 9.95215198e-01, 3.51419231e-04, 1.68657851e-08]])"
      ]
     },
     "execution_count": 67,
     "metadata": {},
     "output_type": "execute_result"
    }
   ],
   "source": [
    "# probability 包含对应类别索引下的概率（索引与每一条训练数据最后的类别一致）\n",
    "print(\"返回结果分别对应 赌博，正常，政治，色情 4个 类别的概率\")\n",
    "res.probability"
   ]
  },
  {
   "cell_type": "code",
   "execution_count": 68,
   "metadata": {},
   "outputs": [
    {
     "name": "stdout",
     "output_type": "stream",
     "text": [
      "返回结果分别对应 赌博，正常，政治，色情 4个 类别的概率\n"
     ]
    },
    {
     "data": {
      "text/plain": [
       "array([[9.99998979e-01, 1.01948859e-06, 8.41693117e-10, 8.74995724e-10]])"
      ]
     },
     "execution_count": 68,
     "metadata": {},
     "output_type": "execute_result"
    }
   ],
   "source": [
    "# 赌博信息的测试案例\n",
    "res = cherry.classify(model='harmful', text=['捕鱼.炸金花.牛牛.德州扑克'])\n",
    "# probability 包含对应类别索引下的概率（索引与每一条训练数据最后的类别一致）\n",
    "print(\"返回结果分别对应 赌博，正常，政治，色情 4个 类别的概率\")\n",
    "res.probability#### 使用方法\n",
    "由于数据量过大，cherry 库并没有包含训练数据，所以预训练模型只支持 classify() 方法，使用其他方法需使用自定义数据集。 预训练模型包含 2个 数据集，分别是：\n",
    "\n",
    "赌博 / 正常 / 政治 / 色情 (model='harmful'，4个 类别包含约 1000条 中文句子)\n",
    "彩票 / 科技 / 财经 / 房产 / 社会 / 体育 / 娱乐 (model=news，7个 类别包含约 45000条 中文新闻)\n",
    "使用预训练模型进行文本分类非常简单，只需要直接调用 classify() 方法，可以指定两个参数，text 是由待分类文本组成的列表，models 是训练时指定的文件夹名。"
   ]
  },
  {
   "cell_type": "markdown",
   "metadata": {},
   "source": [
    "#### 自己制作一个训练集\n",
    "我们可以通过自行输入一些相关信息，来构建一个训练集，进行判断分类。\n",
    "\n",
    "#### 数据集\n",
    "数据集需要包含两个文件（参考 example/data_example 文件夹）\n",
    "\n",
    "- 数据集 data.xxx（需命名为 data开头，任意后缀的文件）\n",
    "- 停止词 stop_words.xxx（需命名为 stop_words开头，任意后缀的文件，停止词可直接拷贝 example 文件夹中自带的 stop_words.txt）\n",
    "\n",
    "数据集中每一行代表一条数据，数据结束后需要添加 ',' 以及对应的分类类别（不需要空格），例如：\n",
    "\n",
    ">这是一条正常数据,0\n",
    ">这是赌博相关数据,1\n",
    "\n",
    "cherry 会提取每一行数据最后的类别作为标签进行训练。\n",
    "\n",
    "- 停止词\n",
    "stop_words.xxx 文件每行包含一个停止词，例如\n",
    "\n",
    ">或者\n",
    "不只\n",
    "而且\n",
    "还有\n",
    "即使\n",
    "接着\n",
    "具体步骤\n",
    "\n",
    "1.在 data 文件夹内新建 your_folder 文件夹，你的模型所有数据以及生成的缓存都会存放在此文件夹中。\n",
    "2.把 data.xxx 以及 stop_words.xxx 放在文件夹中（可参考例子）。your_folder 用作调用 APIs 时需要的 model 参数。"
   ]
  },
  {
   "cell_type": "code",
   "execution_count": 75,
   "metadata": {},
   "outputs": [
    {
     "name": "stdout",
     "output_type": "stream",
     "text": [
      "Training may take some time depending on your dataset\n",
      "返回结果分别对应正常、赌博 2个 类别的概率\n"
     ]
    },
    {
     "data": {
      "text/plain": [
       "array([[0.00262295, 0.99737705]])"
      ]
     },
     "execution_count": 75,
     "metadata": {},
     "output_type": "execute_result"
    }
   ],
   "source": [
    "# 演示如何构建一个数据集 ccexample\n",
    "\n",
    "cherry.train(model='ccexample')\n",
    "res = cherry.classify(model='ccexample', text=['我们提供最新最全大型游戏下载，迷你游戏下载，并提供大量游戏攻略'])\n",
    "# probability 包含对应类别索引下的概率（索引与每一条训练数据最后的类别一致）\n",
    "print(\"返回结果分别对应正常、赌博 2个 类别的概率\")\n",
    "res.probability\n",
    "\n",
    "\n",
    "# 演示一个实例比较数据集大小之间的不同差异"
   ]
  },
  {
   "attachments": {},
   "cell_type": "markdown",
   "metadata": {},
   "source": [
    "## SVM\n",
    "### SVM实例分享\n",
    "接下来我们以[鸢尾花卉数据集（lris）](https://www.jianshu.com/p/6ada344f91ce)样本，使用SVM对其进行分类，lris是一类多重变量分析的数据集。通过花萼长度，花萼宽度，花瓣长度，花瓣宽度4个属性预测鸢尾花卉属于（Setosa，Versicolour，Virginica）三个种类中的哪一类。\n",
    "\n",
    "\n",
    "\n"
   ]
  },
  {
   "cell_type": "markdown",
   "metadata": {},
   "source": [
    "#### 导入数据\n",
    "使用sklearn中导入数据的库（datasets）进行数据的导入，为方便可视化起见，这里我们花瓣长度，花瓣宽度为两个特征，并由此构建一个特征矩阵X,同时将对应花的类标赋给向量Y,具体实现如下："
   ]
  },
  {
   "cell_type": "code",
   "execution_count": 122,
   "metadata": {},
   "outputs": [
    {
     "name": "stdout",
     "output_type": "stream",
     "text": [
      "训练集: 0.8555555555555555\n",
      "测试集: 0.7\n",
      "训练集： 0.8555555555555555\n",
      "测试集： 0.7\n",
      "train_decision_function:\n",
      " [[ 1.00809313  1.01540937  0.151101  ]\n",
      " [-1.00777232 -1.00008021  0.63444159]\n",
      " [-0.99416388 -1.06070485 -0.681607  ]\n",
      " [ 1.0000563   1.00031087  0.05426675]\n",
      " [ 1.01709573  1.02782828  0.14377175]\n",
      " [-0.94393468 -1.02064785 -1.00008844]\n",
      " [ 0.99963476  1.00001849  0.15117146]\n",
      " [-0.96836014 -0.99980535  0.58258857]\n",
      " [-0.57544729 -1.05719931 -1.38921374]\n",
      " [-0.99957828 -1.07645757 -0.44947688]\n",
      " [-1.06076059 -1.12561405  1.00935269]\n",
      " [-0.61824976 -1.00025184 -0.99988863]\n",
      " [-1.04911984 -1.01738974  0.82720369]\n",
      " [ 1.0004868   0.99973226  0.15150631]\n",
      " [-0.99959974 -0.27106766  1.00008043]\n",
      " [-1.00037028 -1.0072383  -0.79454   ]\n",
      " [-0.94393468 -1.02064785 -1.00008844]\n",
      " [-1.16901646 -0.68521942  0.99969349]\n",
      " [-0.36188214 -1.05474156 -1.22681095]\n",
      " [-0.99998921 -0.7292288   1.00000149]\n",
      " [ 0.9997492   1.00028017  0.16527647]\n",
      " [ 1.10037424  1.1294864   0.11662767]\n",
      " [ 0.99999492  1.0000862   0.15138041]\n",
      " [-0.61824976 -1.00025184 -0.99988863]\n",
      " [ 1.08355223  1.08507103  0.1424095 ]\n",
      " [-1.00009316 -1.08602786  1.00043467]\n",
      " [-0.93936698 -0.99997526 -0.99997348]\n",
      " [-1.13577007 -1.0002233   0.99974319]\n",
      " [ 1.16023739  1.1246827   0.16502081]\n",
      " [ 1.00115904  0.99996486  0.17242897]\n",
      " [-0.99972181 -1.17249695  0.99998702]\n",
      " [ 1.10037424  1.1294864   0.11662767]\n",
      " [-0.1027307  -0.9998778  -0.99961275]\n",
      " [-0.99984973 -1.01384434  0.41965646]\n",
      " [-0.06853344 -1.00017439 -1.00002848]\n",
      " [-1.10220778 -0.99983948 -0.09742273]\n",
      " [-1.00043397 -0.32121581  0.99961883]\n",
      " [-0.30242606 -1.00037937 -0.99997358]\n",
      " [-0.15705833 -0.99949477 -0.99948473]\n",
      " [-1.0325418  -0.84098366  0.99753354]\n",
      " [ 1.00006765  0.9996837   0.1513724 ]\n",
      " [-0.99972181 -1.17249695  0.99998702]\n",
      " [ 1.00004815  0.9997917   0.27413953]\n",
      " [-1.00027933 -0.57947682  0.99973839]\n",
      " [-1.12449549 -0.89214022  0.99971899]\n",
      " [ 1.00037714  0.99965076  0.15431726]\n",
      " [-1.00008464 -0.60756094  0.99997514]\n",
      " [ 0.99972206  1.00001549  0.15263062]\n",
      " [ 1.00809313  1.01540937  0.151101  ]\n",
      " [-0.23025489 -1.00007667 -1.21246391]\n",
      " [-0.98832135 -0.9994803   0.8930315 ]\n",
      " [-0.96691418 -0.99979768  0.00622326]\n",
      " [ 1.00643013  1.0143149   0.15615458]\n",
      " [ 1.02324897  1.02308352  0.15186157]\n",
      " [-1.00026853 -0.70701175  0.86866116]\n",
      " [ 1.02911302  1.03463018  0.13528244]\n",
      " [-0.99972181 -1.17249695  0.99998702]\n",
      " [ 1.06559064  1.09136031  0.11662815]\n",
      " [-0.94393468 -1.02064785 -1.00008844]\n",
      " [-0.81915106 -0.99993058  0.10237022]\n",
      " [ 1.00031145  0.99963951  0.14669966]\n",
      " [-0.52223623 -1.0292103  -1.25294459]\n",
      " [ 0.99968051  0.99998466  0.14838984]\n",
      " [-1.00003734 -0.59416672  1.11153323]\n",
      " [ 0.99975504  1.00039635  0.13179384]\n",
      " [-1.00027933 -0.57947682  0.99973839]\n",
      " [-0.99956137 -0.12062209  0.9996007 ]\n",
      " [ 1.06955081  1.05438707  0.15587295]\n",
      " [ 1.04203318  1.0392508   0.04863838]\n",
      " [-1.00008639 -0.88930836  0.5688138 ]\n",
      " [ 0.99963475  0.99960027  0.1513726 ]\n",
      " [-1.13577007 -1.0002233   0.99974319]\n",
      " [-1.01101008 -1.0367391   0.93069616]\n",
      " [ 1.00037714  0.99965076  0.15431726]\n",
      " [-0.99957828 -1.07645757 -0.44947688]\n",
      " [-1.13744373 -0.99922893  1.09396676]\n",
      " [-1.00320448 -0.2113903   1.11768961]\n",
      " [-0.9999184  -0.81463336  0.97825046]\n",
      " [-0.99972181 -1.17249695  0.99998702]\n",
      " [ 0.99996972  1.00007109  0.31898531]\n",
      " [ 1.00026771  0.99985888  0.07423981]\n",
      " [-1.02384518 -0.99964079  0.32734651]\n",
      " [-1.02258131 -1.07257636  0.92788042]\n",
      " [-0.49743583 -0.99998153 -0.68885053]\n",
      " [-1.00050191 -1.1285427   0.76804734]\n",
      " [-1.01909717 -1.05970873 -0.47786252]\n",
      " [-0.72688858 -1.0000759  -0.99954194]\n",
      " [-1.0000819  -0.75940958  0.03030558]\n",
      " [-0.99957828 -1.07645757 -0.44947688]\n",
      " [ 1.10037424  1.1294864   0.11662767]]\n",
      "predict_result:\n",
      " [0. 1. 2. 0. 0. 2. 0. 1. 2. 2. 1. 2. 1. 0. 1. 2. 2. 1. 2. 1. 0. 0. 0. 2.\n",
      " 0. 1. 2. 1. 0. 0. 1. 0. 2. 1. 2. 2. 1. 2. 2. 1. 0. 1. 0. 1. 1. 0. 1. 0.\n",
      " 0. 2. 1. 1. 0. 0. 1. 0. 1. 0. 2. 1. 0. 2. 0. 1. 0. 1. 1. 0. 0. 1. 0. 1.\n",
      " 1. 0. 2. 1. 1. 1. 1. 0. 0. 1. 1. 2. 1. 2. 2. 1. 2. 0.]\n"
     ]
    },
    {
     "name": "stderr",
     "output_type": "stream",
     "text": [
      "/Users/cube.z/anaconda3/lib/python3.7/site-packages/matplotlib/font_manager.py:1241: UserWarning: findfont: Font family ['sans-serif'] not found. Falling back to DejaVu Sans.\n",
      "  (prop.get_family(), self.defaultFamily[fontext]))\n"
     ]
    },
    {
     "data": {
      "image/png": "[encoded data removed]",
      "text/plain": [
       "<Figure size 432x288 with 1 Axes>"
      ]
     },
     "metadata": {
      "needs_background": "light"
     },
     "output_type": "display_data"
    }
   ],
   "source": [
    "from sklearn import svm\n",
    "import numpy as np\n",
    "import matplotlib.pyplot as plt\n",
    "import matplotlib\n",
    "import sklearn\n",
    "from sklearn.model_selection import train_test_split\n",
    "\n",
    "#define converts(字典)\n",
    "def Iris_label(s):\n",
    "    it={b'Iris-setosa':0, b'Iris-versicolor':1, b'Iris-virginica':2}\n",
    "    return it[s]\n",
    "\n",
    "#1.读取数据集  \n",
    "path='iris.data'\n",
    "data=np.loadtxt(path,dtype=float,delimiter=',',converters={4:Iris_label})\n",
    "#converters={4:Iris_label}中“4”指的是第5列：将第5列的str转化为label(number)  \n",
    "#print(data.shape)  \n",
    "\n",
    "#2.划分数据与标签  \n",
    "x,y=np.split(data,indices_or_sections=(4,),axis=1) #x为数据,y为标签\n",
    "x=x[:,0:2]\n",
    "train_data,test_data,train_label,test_label =train_test_split(x,y, random_state =1,train_size=0.6,test_size=0.4) #sklearn.model_selection.\n",
    "#print(train_data.shape)\n",
    "\n",
    "#3.训练svm分类器\n",
    "classifier=svm.SVC(C=2,kernel='rbf',gamma=10,decision_function_shape='ovo')#ovr:一对多策略\n",
    "classifier.fit(train_data,train_label.ravel()) #ravel函数在降维时默认是行序优先  \n",
    "\n",
    "#4.计算svc分类器的准确率\n",
    "print(\"训练集:\",classifier.score(train_data,train_label))\n",
    "print(\"测试集:\",classifier.score(test_data,test_label))\n",
    "\n",
    "#也可直接调用accuracy_score方法计算准确率\n",
    "from sklearn.metrics import accuracy_score\n",
    "tra_label=classifier.predict(train_data) #训练集的预测标签\n",
    "tes_label=classifier.predict(test_data) #测试集的预测标签\n",
    "print(\"训练集：\",accuracy_score(train_label,tra_label))\n",
    "print(\"测试集：\",accuracy_score(test_label,tes_label))\n",
    "\n",
    "#查看决策函数\n",
    "print('train_decision_function:\\n',classifier.decision_function(train_data))#(90,3)\n",
    "print('predict_result:\\n',classifier.predict(train_data))\n",
    "\n",
    "#5.绘制图形\n",
    "#确定坐标轴范围\n",
    "x1_min,x1_max=x[:,0].min(),x[:,0].max()#第0维特征的范围\n",
    "x2_min, x2_max=x[:,1].min(),x[:,1].max()#第1维特征的范围\n",
    "x1,x2=np.mgrid[x1_min:x1_max:200j,x2_min:x2_max:200j]#生成网络采样点\n",
    "grid_test=np.stack((x1.flat,x2.flat),axis=1)#测试点\n",
    "#指定默认字体\n",
    "matplotlib.rcParams['font.sans-serif']=['SimHei']\n",
    "#设置颜色\n",
    "cm_light=matplotlib.colors.ListedColormap(['#A0FFA0','#FFA0A0','#A0A0FF'])\n",
    "cm_dark=matplotlib.colors.ListedColormap(['g','r','b'])\n",
    "\n",
    "grid_hat = classifier.predict(grid_test)  # 预测分类值\n",
    "grid_hat = grid_hat.reshape(x1.shape) # 使之与输入的形状相同\n",
    "\n",
    "plt.pcolormesh(x1,x2,grid_hat,cmap=cm_light)#预测值的显示\n",
    "plt.scatter(x[:,0],x[:,1],c=y[:,0],s=30,cmap=cm_dark)#样本\n",
    "plt.scatter(test_data[:,0],test_data[:,1],c=test_label[:,0], s=30,edgecolors='k',zorder=2,cmap=cm_dark)#圈中测试集样本点  \n",
    "plt.xlabel('花萼长度',fontsize=13)\n",
    "plt.ylabel('花萼宽度',fontsize=13)\n",
    "plt.xlim(x1_min,x1_max)\n",
    "plt.ylim(x2_min,x2_max)\n",
    "plt.title('鸢尾花SVM二特征分类')\n",
    "plt.show()"
   ]
  },
  {
   "cell_type": "code",
   "execution_count": null,
   "metadata": {},
   "outputs": [],
   "source": []
  }
 ],
 "metadata": {
  "kernelspec": {
   "display_name": "Python 3",
   "language": "python",
   "name": "python3"
  },
  "language_info": {
   "codemirror_mode": {
    "name": "ipython",
    "version": 3
   },
   "file_extension": ".py",
   "mimetype": "text/x-python",
   "name": "python",
   "nbconvert_exporter": "python",
   "pygments_lexer": "ipython3",
   "version": "3.7.1"
  }
 },
 "nbformat": 4,
 "nbformat_minor": 2
}
